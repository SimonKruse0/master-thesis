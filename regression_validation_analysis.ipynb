{
 "cells": [
  {
   "cell_type": "code",
   "execution_count": 1,
   "metadata": {},
   "outputs": [
    {
     "name": "stdout",
     "output_type": "stream",
     "text": [
      "src.analysis_helpers\n"
     ]
    }
   ],
   "source": [
    "from src.analysis_helpers import analysis_regression_performance_plotly"
   ]
  },
  {
   "cell_type": "markdown",
   "metadata": {},
   "source": [
    "### The new GP!\n",
    "- The new GP is superior\n",
    "- Bohamian number of perfect number samples varies a lot\n",
    "- NumpyroNN performs just like the emperical mean and std model"
   ]
  },
  {
   "cell_type": "markdown",
   "metadata": {},
   "source": [
    "#### Weierstrass"
   ]
  },
  {
   "cell_type": "code",
   "execution_count": 2,
   "metadata": {},
   "outputs": [
    {
     "data": {
      "application/vnd.plotly.v1+json": {
       "config": {
        "plotlyServerURL": "https://plot.ly"
       },
       "data": [
        {
         "line": {
          "color": "black",
          "dash": "solid",
          "width": 2
         },
         "mode": "lines+markers",
         "name": "empirical mean and std regression",
         "showlegend": true,
         "type": "scatter",
         "x": [
          10,
          15,
          23,
          36,
          56,
          86,
          133,
          205,
          316
         ],
         "xaxis": "x",
         "y": [
          2.2008695808491967,
          2.168194340457556,
          2.1372654625787058,
          2.102863727406609,
          2.0766743829963423,
          2.0666762111881107,
          2.0658885984136695,
          2.062853583608527,
          2.0614517274544606
         ],
         "yaxis": "y"
        },
        {
         "line": {
          "color": "red",
          "dash": "dash",
          "width": 2
         },
         "mode": "lines+markers",
         "name": "numpyro neural network2000-2000",
         "showlegend": true,
         "type": "scatter",
         "x": [
          10,
          15,
          23,
          36,
          56,
          86,
          133,
          205,
          316
         ],
         "xaxis": "x",
         "y": [
          2.3705108761787415,
          2.238510385155678,
          2.282457411289215,
          2.1010226011276245,
          2.1778236776590347,
          2.103440061211586,
          2.0719488710165024,
          2.067352071404457,
          2.0674367994070053
         ],
         "yaxis": "y"
        },
        {
         "line": {
          "color": "blue",
          "dash": "solid",
          "width": 2
         },
         "mode": "lines+markers",
         "name": "Gaussian Process",
         "showlegend": true,
         "type": "scatter",
         "x": [
          10,
          15,
          23,
          36,
          56,
          86,
          133,
          205,
          316
         ],
         "xaxis": "x",
         "y": [
          6.652625950642299,
          5.61419792002989,
          4.307184845695168,
          3.725326581203634,
          3.5290513724774826,
          3.1604313896823197,
          3.138488041774053,
          3.0918021147767445,
          2.9574556172341446
         ],
         "yaxis": "y"
        },
        {
         "line": {
          "color": "red",
          "dash": "solid",
          "width": 2
         },
         "mode": "lines+markers",
         "name": "numpyro neural network",
         "showlegend": true,
         "type": "scatter",
         "x": [
          10,
          15,
          23,
          36,
          56,
          86,
          133,
          205,
          316
         ],
         "xaxis": "x",
         "y": [
          2.397586612701416,
          2.277556047439575,
          2.29246488571167,
          2.1276333808898924,
          2.147184133529663,
          2.095467376708984,
          2.0726883697509764,
          2.066657848358154,
          2.066450357437134
         ],
         "yaxis": "y"
        },
        {
         "line": {
          "color": "green",
          "dash": "solid",
          "width": 2
         },
         "mode": "lines+markers",
         "name": "BOHAMIANN",
         "showlegend": true,
         "type": "scatter",
         "x": [
          10,
          15,
          23,
          36,
          56,
          86,
          133,
          205,
          316
         ],
         "xaxis": "x",
         "y": [
          3.1675515047138787,
          3.02029592284282,
          2.8388857892729327,
          2.666431075138564,
          2.5685850132419663,
          2.4025930861718616,
          2.310242898557391,
          2.187307934553315,
          2.128946029880875
         ],
         "yaxis": "y"
        },
        {
         "line": {
          "color": "blue",
          "dash": "dash",
          "width": 2
         },
         "mode": "lines+markers",
         "name": "Gaussian Process noise-0.01",
         "showlegend": true,
         "type": "scatter",
         "x": [
          10,
          15,
          23,
          36,
          56,
          86,
          133,
          205,
          316
         ],
         "xaxis": "x",
         "y": [
          6.08403470844635,
          5.41857157366367,
          4.306415838791314,
          3.635781867337993,
          3.4387871215860315,
          3.127003727991939,
          3.08379382465958,
          3.031671523542634,
          2.90970519694215
         ],
         "yaxis": "y"
        },
        {
         "line": {
          "color": "orange",
          "dash": "solid",
          "width": 2
         },
         "mode": "lines+markers",
         "name": "Gaussian Mixture Regression",
         "showlegend": true,
         "type": "scatter",
         "x": [
          10,
          15,
          23,
          36,
          56,
          86,
          133,
          205,
          316
         ],
         "xaxis": "x",
         "y": [
          2.9633648039003986,
          2.93725112764532,
          2.912946683272983,
          2.827395641129647,
          2.7682312416301427,
          2.7066063252347736,
          2.6503821469738345,
          2.5964114444557684,
          2.537941788967393
         ],
         "yaxis": "y"
        },
        {
         "line": {
          "color": "green",
          "dash": "dash",
          "width": 2
         },
         "mode": "lines+markers",
         "name": "BOHAMIANN2000-2000",
         "showlegend": true,
         "type": "scatter",
         "x": [
          10,
          15,
          23,
          36,
          56,
          86,
          133,
          205,
          316
         ],
         "xaxis": "x",
         "y": [
          3.1757756915508093,
          3.0722558028413425,
          2.6721527039054997,
          2.5943614589469686,
          2.487665378768234,
          2.4314348984341434,
          2.4447836771404017,
          2.3982337235273175,
          2.3127909882359723
         ],
         "yaxis": "y"
        },
        {
         "line": {
          "color": "green",
          "dash": "dash",
          "width": 2
         },
         "mode": "lines+markers",
         "name": "BOHAMIANN4000-4000",
         "showlegend": true,
         "type": "scatter",
         "x": [
          10,
          15,
          23,
          36,
          56,
          86,
          133,
          205,
          316
         ],
         "xaxis": "x",
         "y": [
          3.2668092945322647,
          3.073270365724448,
          2.6054656960546274,
          2.539542180231865,
          2.4334387660500245,
          2.372584734351658,
          2.3782564202534537,
          2.3662528253327246,
          2.2617481939256234
         ],
         "yaxis": "y"
        },
        {
         "line": {
          "color": "blue",
          "dash": "dashdot",
          "width": 2
         },
         "mode": "lines+markers",
         "name": "Gaussian Process - sklearn",
         "showlegend": true,
         "type": "scatter",
         "x": [
          10,
          15,
          23,
          36,
          56,
          86,
          133,
          205,
          316
         ],
         "xaxis": "x",
         "y": [
          2.2057341136576425,
          2.1789403608249462,
          2.098050137164726,
          2.0269406182106766,
          1.9413926470562448,
          1.8340791700215142,
          1.6454310366238925,
          1.4698944710390782,
          1.3563368741954211
         ],
         "yaxis": "y"
        },
        {
         "line": {
          "color": "black",
          "dash": "solid",
          "width": 2
         },
         "mode": "lines+markers",
         "name": "empirical mean and std regression",
         "showlegend": false,
         "type": "scatter",
         "x": [
          10,
          15,
          23,
          36,
          56,
          86,
          133,
          205,
          316
         ],
         "xaxis": "x2",
         "y": [
          0.25221921105562195,
          0.2590827909394863,
          0.27124729880495135,
          0.27905577067611315,
          0.27942069460148033,
          0.2825932150122771,
          0.2829347445965066,
          0.2832360625931457,
          0.28382852543475506
         ],
         "yaxis": "y2"
        },
        {
         "line": {
          "color": "red",
          "dash": "dash",
          "width": 2
         },
         "mode": "lines+markers",
         "name": "numpyro neural network2000-2000",
         "showlegend": false,
         "type": "scatter",
         "x": [
          10,
          15,
          23,
          36,
          56,
          86,
          133,
          205,
          316
         ],
         "xaxis": "x2",
         "y": [
          0.36585314933914703,
          0.3482801519571299,
          0.14633351588851617,
          0.023675741589366982,
          0.13232035257079977,
          0.07463575008779533,
          0.02587092489863986,
          0.011265267216868791,
          0.009895723250101622
         ],
         "yaxis": "y2"
        },
        {
         "line": {
          "color": "blue",
          "dash": "solid",
          "width": 2
         },
         "mode": "lines+markers",
         "name": "Gaussian Process",
         "showlegend": false,
         "type": "scatter",
         "x": [
          10,
          15,
          23,
          36,
          56,
          86,
          133,
          205,
          316
         ],
         "xaxis": "x2",
         "y": [
          0.15384969084815175,
          0.16249092993027744,
          0.18115077684587688,
          0.2093161722011011,
          0.21158758920650078,
          0.23527878473704966,
          0.24771581705054924,
          0.2526719250472108,
          0.2544429274736933
         ],
         "yaxis": "y2"
        },
        {
         "line": {
          "color": "red",
          "dash": "solid",
          "width": 2
         },
         "mode": "lines+markers",
         "name": "numpyro neural network",
         "showlegend": false,
         "type": "scatter",
         "x": [
          10,
          15,
          23,
          36,
          56,
          86,
          133,
          205,
          316
         ],
         "xaxis": "x2",
         "y": [
          0.34975111850087065,
          0.30851403475613715,
          0.24120131668481423,
          0.14528321855622894,
          0.18885023445233148,
          0.14731321454035265,
          0.11321102688945393,
          0.10273488039126155,
          0.09951374443484173
         ],
         "yaxis": "y2"
        },
        {
         "line": {
          "color": "green",
          "dash": "solid",
          "width": 2
         },
         "mode": "lines+markers",
         "name": "BOHAMIANN",
         "showlegend": false,
         "type": "scatter",
         "x": [
          10,
          15,
          23,
          36,
          56,
          86,
          133,
          205,
          316
         ],
         "xaxis": "x2",
         "y": [
          0.10368338570089194,
          0.1005032666912938,
          0.023816501402185858,
          0.041386540666275166,
          0.02249010221167724,
          0.03655056515824571,
          0.04236706204005766,
          0.05032495609247733,
          0.04763959502171541
         ],
         "yaxis": "y2"
        },
        {
         "line": {
          "color": "blue",
          "dash": "dash",
          "width": 2
         },
         "mode": "lines+markers",
         "name": "Gaussian Process noise-0.01",
         "showlegend": false,
         "type": "scatter",
         "x": [
          10,
          15,
          23,
          36,
          56,
          86,
          133,
          205,
          316
         ],
         "xaxis": "x2",
         "y": [
          0.28903544291886296,
          0.19128126089585093,
          0.216431192495136,
          0.24598966909494835,
          0.24393336546347477,
          0.24625843567456882,
          0.2519730495427542,
          0.2548830311163614,
          0.25664942415758407
         ],
         "yaxis": "y2"
        },
        {
         "line": {
          "color": "orange",
          "dash": "solid",
          "width": 2
         },
         "mode": "lines+markers",
         "name": "Gaussian Mixture Regression",
         "showlegend": false,
         "type": "scatter",
         "x": [
          10,
          15,
          23,
          36,
          56,
          86,
          133,
          205,
          316
         ],
         "xaxis": "x2",
         "y": [
          0.08021606598586585,
          0.08139189643103804,
          0.08582724302678515,
          0.08752432732008071,
          0.08903119046919049,
          0.09179741077552757,
          0.09421886836108331,
          0.09660196785412295,
          0.09934516794759567
         ],
         "yaxis": "y2"
        },
        {
         "line": {
          "color": "green",
          "dash": "dash",
          "width": 2
         },
         "mode": "lines+markers",
         "name": "BOHAMIANN2000-2000",
         "showlegend": false,
         "type": "scatter",
         "x": [
          10,
          15,
          23,
          36,
          56,
          86,
          133,
          205,
          316
         ],
         "xaxis": "x2",
         "y": [
          0.10202237163463991,
          0.098593604762785,
          0.030455215577595757,
          0.037423114074433474,
          0.02904345470837964,
          0.0267523428073441,
          0.027731360702128623,
          0.03495498873912785,
          0.04249835427084537
         ],
         "yaxis": "y2"
        },
        {
         "line": {
          "color": "green",
          "dash": "dash",
          "width": 2
         },
         "mode": "lines+markers",
         "name": "BOHAMIANN4000-4000",
         "showlegend": false,
         "type": "scatter",
         "x": [
          10,
          15,
          23,
          36,
          56,
          86,
          133,
          205,
          316
         ],
         "xaxis": "x2",
         "y": [
          0.063466152974742,
          0.0863544542892779,
          0.030643522066251518,
          0.025124619734586434,
          0.018633999699190554,
          0.01911330813948579,
          0.020888219377870155,
          0.026155801530893485,
          0.03436255274663776
         ],
         "yaxis": "y2"
        },
        {
         "line": {
          "color": "blue",
          "dash": "dashdot",
          "width": 2
         },
         "mode": "lines+markers",
         "name": "Gaussian Process - sklearn",
         "showlegend": false,
         "type": "scatter",
         "x": [
          10,
          15,
          23,
          36,
          56,
          86,
          133,
          205,
          316
         ],
         "xaxis": "x2",
         "y": [
          0.25285624783627264,
          0.2519889442645011,
          0.26931042806532557,
          0.2750916678713435,
          0.27712041511091934,
          0.2758181194048698,
          0.272631112138473,
          0.272009819615629,
          0.2699668508162834
         ],
         "yaxis": "y2"
        }
       ],
       "layout": {
        "margin": {
         "b": 0,
         "l": 0,
         "r": 0,
         "t": 30
        },
        "template": {
         "data": {
          "bar": [
           {
            "error_x": {
             "color": "#2a3f5f"
            },
            "error_y": {
             "color": "#2a3f5f"
            },
            "marker": {
             "line": {
              "color": "#E5ECF6",
              "width": 0.5
             },
             "pattern": {
              "fillmode": "overlay",
              "size": 10,
              "solidity": 0.2
             }
            },
            "type": "bar"
           }
          ],
          "barpolar": [
           {
            "marker": {
             "line": {
              "color": "#E5ECF6",
              "width": 0.5
             },
             "pattern": {
              "fillmode": "overlay",
              "size": 10,
              "solidity": 0.2
             }
            },
            "type": "barpolar"
           }
          ],
          "carpet": [
           {
            "aaxis": {
             "endlinecolor": "#2a3f5f",
             "gridcolor": "white",
             "linecolor": "white",
             "minorgridcolor": "white",
             "startlinecolor": "#2a3f5f"
            },
            "baxis": {
             "endlinecolor": "#2a3f5f",
             "gridcolor": "white",
             "linecolor": "white",
             "minorgridcolor": "white",
             "startlinecolor": "#2a3f5f"
            },
            "type": "carpet"
           }
          ],
          "choropleth": [
           {
            "colorbar": {
             "outlinewidth": 0,
             "ticks": ""
            },
            "type": "choropleth"
           }
          ],
          "contour": [
           {
            "colorbar": {
             "outlinewidth": 0,
             "ticks": ""
            },
            "colorscale": [
             [
              0,
              "#0d0887"
             ],
             [
              0.1111111111111111,
              "#46039f"
             ],
             [
              0.2222222222222222,
              "#7201a8"
             ],
             [
              0.3333333333333333,
              "#9c179e"
             ],
             [
              0.4444444444444444,
              "#bd3786"
             ],
             [
              0.5555555555555556,
              "#d8576b"
             ],
             [
              0.6666666666666666,
              "#ed7953"
             ],
             [
              0.7777777777777778,
              "#fb9f3a"
             ],
             [
              0.8888888888888888,
              "#fdca26"
             ],
             [
              1,
              "#f0f921"
             ]
            ],
            "type": "contour"
           }
          ],
          "contourcarpet": [
           {
            "colorbar": {
             "outlinewidth": 0,
             "ticks": ""
            },
            "type": "contourcarpet"
           }
          ],
          "heatmap": [
           {
            "colorbar": {
             "outlinewidth": 0,
             "ticks": ""
            },
            "colorscale": [
             [
              0,
              "#0d0887"
             ],
             [
              0.1111111111111111,
              "#46039f"
             ],
             [
              0.2222222222222222,
              "#7201a8"
             ],
             [
              0.3333333333333333,
              "#9c179e"
             ],
             [
              0.4444444444444444,
              "#bd3786"
             ],
             [
              0.5555555555555556,
              "#d8576b"
             ],
             [
              0.6666666666666666,
              "#ed7953"
             ],
             [
              0.7777777777777778,
              "#fb9f3a"
             ],
             [
              0.8888888888888888,
              "#fdca26"
             ],
             [
              1,
              "#f0f921"
             ]
            ],
            "type": "heatmap"
           }
          ],
          "heatmapgl": [
           {
            "colorbar": {
             "outlinewidth": 0,
             "ticks": ""
            },
            "colorscale": [
             [
              0,
              "#0d0887"
             ],
             [
              0.1111111111111111,
              "#46039f"
             ],
             [
              0.2222222222222222,
              "#7201a8"
             ],
             [
              0.3333333333333333,
              "#9c179e"
             ],
             [
              0.4444444444444444,
              "#bd3786"
             ],
             [
              0.5555555555555556,
              "#d8576b"
             ],
             [
              0.6666666666666666,
              "#ed7953"
             ],
             [
              0.7777777777777778,
              "#fb9f3a"
             ],
             [
              0.8888888888888888,
              "#fdca26"
             ],
             [
              1,
              "#f0f921"
             ]
            ],
            "type": "heatmapgl"
           }
          ],
          "histogram": [
           {
            "marker": {
             "pattern": {
              "fillmode": "overlay",
              "size": 10,
              "solidity": 0.2
             }
            },
            "type": "histogram"
           }
          ],
          "histogram2d": [
           {
            "colorbar": {
             "outlinewidth": 0,
             "ticks": ""
            },
            "colorscale": [
             [
              0,
              "#0d0887"
             ],
             [
              0.1111111111111111,
              "#46039f"
             ],
             [
              0.2222222222222222,
              "#7201a8"
             ],
             [
              0.3333333333333333,
              "#9c179e"
             ],
             [
              0.4444444444444444,
              "#bd3786"
             ],
             [
              0.5555555555555556,
              "#d8576b"
             ],
             [
              0.6666666666666666,
              "#ed7953"
             ],
             [
              0.7777777777777778,
              "#fb9f3a"
             ],
             [
              0.8888888888888888,
              "#fdca26"
             ],
             [
              1,
              "#f0f921"
             ]
            ],
            "type": "histogram2d"
           }
          ],
          "histogram2dcontour": [
           {
            "colorbar": {
             "outlinewidth": 0,
             "ticks": ""
            },
            "colorscale": [
             [
              0,
              "#0d0887"
             ],
             [
              0.1111111111111111,
              "#46039f"
             ],
             [
              0.2222222222222222,
              "#7201a8"
             ],
             [
              0.3333333333333333,
              "#9c179e"
             ],
             [
              0.4444444444444444,
              "#bd3786"
             ],
             [
              0.5555555555555556,
              "#d8576b"
             ],
             [
              0.6666666666666666,
              "#ed7953"
             ],
             [
              0.7777777777777778,
              "#fb9f3a"
             ],
             [
              0.8888888888888888,
              "#fdca26"
             ],
             [
              1,
              "#f0f921"
             ]
            ],
            "type": "histogram2dcontour"
           }
          ],
          "mesh3d": [
           {
            "colorbar": {
             "outlinewidth": 0,
             "ticks": ""
            },
            "type": "mesh3d"
           }
          ],
          "parcoords": [
           {
            "line": {
             "colorbar": {
              "outlinewidth": 0,
              "ticks": ""
             }
            },
            "type": "parcoords"
           }
          ],
          "pie": [
           {
            "automargin": true,
            "type": "pie"
           }
          ],
          "scatter": [
           {
            "fillpattern": {
             "fillmode": "overlay",
             "size": 10,
             "solidity": 0.2
            },
            "type": "scatter"
           }
          ],
          "scatter3d": [
           {
            "line": {
             "colorbar": {
              "outlinewidth": 0,
              "ticks": ""
             }
            },
            "marker": {
             "colorbar": {
              "outlinewidth": 0,
              "ticks": ""
             }
            },
            "type": "scatter3d"
           }
          ],
          "scattercarpet": [
           {
            "marker": {
             "colorbar": {
              "outlinewidth": 0,
              "ticks": ""
             }
            },
            "type": "scattercarpet"
           }
          ],
          "scattergeo": [
           {
            "marker": {
             "colorbar": {
              "outlinewidth": 0,
              "ticks": ""
             }
            },
            "type": "scattergeo"
           }
          ],
          "scattergl": [
           {
            "marker": {
             "colorbar": {
              "outlinewidth": 0,
              "ticks": ""
             }
            },
            "type": "scattergl"
           }
          ],
          "scattermapbox": [
           {
            "marker": {
             "colorbar": {
              "outlinewidth": 0,
              "ticks": ""
             }
            },
            "type": "scattermapbox"
           }
          ],
          "scatterpolar": [
           {
            "marker": {
             "colorbar": {
              "outlinewidth": 0,
              "ticks": ""
             }
            },
            "type": "scatterpolar"
           }
          ],
          "scatterpolargl": [
           {
            "marker": {
             "colorbar": {
              "outlinewidth": 0,
              "ticks": ""
             }
            },
            "type": "scatterpolargl"
           }
          ],
          "scatterternary": [
           {
            "marker": {
             "colorbar": {
              "outlinewidth": 0,
              "ticks": ""
             }
            },
            "type": "scatterternary"
           }
          ],
          "surface": [
           {
            "colorbar": {
             "outlinewidth": 0,
             "ticks": ""
            },
            "colorscale": [
             [
              0,
              "#0d0887"
             ],
             [
              0.1111111111111111,
              "#46039f"
             ],
             [
              0.2222222222222222,
              "#7201a8"
             ],
             [
              0.3333333333333333,
              "#9c179e"
             ],
             [
              0.4444444444444444,
              "#bd3786"
             ],
             [
              0.5555555555555556,
              "#d8576b"
             ],
             [
              0.6666666666666666,
              "#ed7953"
             ],
             [
              0.7777777777777778,
              "#fb9f3a"
             ],
             [
              0.8888888888888888,
              "#fdca26"
             ],
             [
              1,
              "#f0f921"
             ]
            ],
            "type": "surface"
           }
          ],
          "table": [
           {
            "cells": {
             "fill": {
              "color": "#EBF0F8"
             },
             "line": {
              "color": "white"
             }
            },
            "header": {
             "fill": {
              "color": "#C8D4E3"
             },
             "line": {
              "color": "white"
             }
            },
            "type": "table"
           }
          ]
         },
         "layout": {
          "annotationdefaults": {
           "arrowcolor": "#2a3f5f",
           "arrowhead": 0,
           "arrowwidth": 1
          },
          "autotypenumbers": "strict",
          "coloraxis": {
           "colorbar": {
            "outlinewidth": 0,
            "ticks": ""
           }
          },
          "colorscale": {
           "diverging": [
            [
             0,
             "#8e0152"
            ],
            [
             0.1,
             "#c51b7d"
            ],
            [
             0.2,
             "#de77ae"
            ],
            [
             0.3,
             "#f1b6da"
            ],
            [
             0.4,
             "#fde0ef"
            ],
            [
             0.5,
             "#f7f7f7"
            ],
            [
             0.6,
             "#e6f5d0"
            ],
            [
             0.7,
             "#b8e186"
            ],
            [
             0.8,
             "#7fbc41"
            ],
            [
             0.9,
             "#4d9221"
            ],
            [
             1,
             "#276419"
            ]
           ],
           "sequential": [
            [
             0,
             "#0d0887"
            ],
            [
             0.1111111111111111,
             "#46039f"
            ],
            [
             0.2222222222222222,
             "#7201a8"
            ],
            [
             0.3333333333333333,
             "#9c179e"
            ],
            [
             0.4444444444444444,
             "#bd3786"
            ],
            [
             0.5555555555555556,
             "#d8576b"
            ],
            [
             0.6666666666666666,
             "#ed7953"
            ],
            [
             0.7777777777777778,
             "#fb9f3a"
            ],
            [
             0.8888888888888888,
             "#fdca26"
            ],
            [
             1,
             "#f0f921"
            ]
           ],
           "sequentialminus": [
            [
             0,
             "#0d0887"
            ],
            [
             0.1111111111111111,
             "#46039f"
            ],
            [
             0.2222222222222222,
             "#7201a8"
            ],
            [
             0.3333333333333333,
             "#9c179e"
            ],
            [
             0.4444444444444444,
             "#bd3786"
            ],
            [
             0.5555555555555556,
             "#d8576b"
            ],
            [
             0.6666666666666666,
             "#ed7953"
            ],
            [
             0.7777777777777778,
             "#fb9f3a"
            ],
            [
             0.8888888888888888,
             "#fdca26"
            ],
            [
             1,
             "#f0f921"
            ]
           ]
          },
          "colorway": [
           "#636efa",
           "#EF553B",
           "#00cc96",
           "#ab63fa",
           "#FFA15A",
           "#19d3f3",
           "#FF6692",
           "#B6E880",
           "#FF97FF",
           "#FECB52"
          ],
          "font": {
           "color": "#2a3f5f"
          },
          "geo": {
           "bgcolor": "white",
           "lakecolor": "white",
           "landcolor": "#E5ECF6",
           "showlakes": true,
           "showland": true,
           "subunitcolor": "white"
          },
          "hoverlabel": {
           "align": "left"
          },
          "hovermode": "closest",
          "mapbox": {
           "style": "light"
          },
          "paper_bgcolor": "white",
          "plot_bgcolor": "#E5ECF6",
          "polar": {
           "angularaxis": {
            "gridcolor": "white",
            "linecolor": "white",
            "ticks": ""
           },
           "bgcolor": "#E5ECF6",
           "radialaxis": {
            "gridcolor": "white",
            "linecolor": "white",
            "ticks": ""
           }
          },
          "scene": {
           "xaxis": {
            "backgroundcolor": "#E5ECF6",
            "gridcolor": "white",
            "gridwidth": 2,
            "linecolor": "white",
            "showbackground": true,
            "ticks": "",
            "zerolinecolor": "white"
           },
           "yaxis": {
            "backgroundcolor": "#E5ECF6",
            "gridcolor": "white",
            "gridwidth": 2,
            "linecolor": "white",
            "showbackground": true,
            "ticks": "",
            "zerolinecolor": "white"
           },
           "zaxis": {
            "backgroundcolor": "#E5ECF6",
            "gridcolor": "white",
            "gridwidth": 2,
            "linecolor": "white",
            "showbackground": true,
            "ticks": "",
            "zerolinecolor": "white"
           }
          },
          "shapedefaults": {
           "line": {
            "color": "#2a3f5f"
           }
          },
          "ternary": {
           "aaxis": {
            "gridcolor": "white",
            "linecolor": "white",
            "ticks": ""
           },
           "baxis": {
            "gridcolor": "white",
            "linecolor": "white",
            "ticks": ""
           },
           "bgcolor": "#E5ECF6",
           "caxis": {
            "gridcolor": "white",
            "linecolor": "white",
            "ticks": ""
           }
          },
          "title": {
           "x": 0.05
          },
          "xaxis": {
           "automargin": true,
           "gridcolor": "white",
           "linecolor": "white",
           "ticks": "",
           "title": {
            "standoff": 15
           },
           "zerolinecolor": "white",
           "zerolinewidth": 2
          },
          "yaxis": {
           "automargin": true,
           "gridcolor": "white",
           "linecolor": "white",
           "ticks": "",
           "title": {
            "standoff": 15
           },
           "zerolinecolor": "white",
           "zerolinewidth": 2
          }
         }
        },
        "title": {
         "text": "Weierstrass dim 10"
        },
        "xaxis": {
         "anchor": "y",
         "domain": [
          0,
          0.45
         ]
        },
        "xaxis2": {
         "anchor": "y2",
         "domain": [
          0.55,
          1
         ]
        },
        "yaxis": {
         "anchor": "x",
         "domain": [
          0,
          1
         ],
         "title": {
          "text": "mean_rel_pred_error"
         }
        },
        "yaxis2": {
         "anchor": "x2",
         "domain": [
          0,
          1
         ]
        }
       }
      }
     },
     "metadata": {},
     "output_type": "display_data"
    }
   ],
   "source": [
    "analysis_regression_performance_plotly(\"Weierstrass_dim_10\",type = \"mean_rel_pred_error\",  means = True)"
   ]
  },
  {
   "cell_type": "code",
   "execution_count": 3,
   "metadata": {},
   "outputs": [
    {
     "data": {
      "application/vnd.plotly.v1+json": {
       "config": {
        "plotlyServerURL": "https://plot.ly"
       },
       "data": [
        {
         "line": {
          "color": "black",
          "dash": "solid",
          "width": 2
         },
         "mode": "lines+markers",
         "name": "empirical mean and std regression",
         "showlegend": true,
         "type": "scatter",
         "x": [
          10,
          15,
          23,
          36,
          56,
          86,
          133,
          205,
          316
         ],
         "xaxis": "x",
         "y": [
          0.9467489892691204,
          0.9461741189820662,
          0.9400473550935652,
          0.9294317170321743,
          0.9328679288125454,
          0.9257078220256432,
          0.9218897342311939,
          0.9218711945484156,
          0.9211579776668299
         ],
         "yaxis": "y"
        },
        {
         "line": {
          "color": "red",
          "dash": "dash",
          "width": 2
         },
         "mode": "lines+markers",
         "name": "numpyro neural network2000-2000",
         "showlegend": true,
         "type": "scatter",
         "x": [
          10,
          15,
          23,
          36,
          56,
          86,
          133,
          205,
          316
         ],
         "xaxis": "x",
         "y": [
          0.9561984837055206,
          0.9367602914571762,
          0.9282829066117605,
          0.9290306270122528,
          0.9211585720380148,
          0.9280819694201151,
          0.9192230900128683,
          0.9197818239529928,
          0.9213673224051794
         ],
         "yaxis": "y"
        },
        {
         "line": {
          "color": "orange",
          "dash": "solid",
          "width": 2
         },
         "mode": "lines+markers",
         "name": "Gaussian Mixture Regression",
         "showlegend": true,
         "type": "scatter",
         "x": [
          10,
          15,
          23,
          36,
          56,
          86,
          133,
          205,
          316
         ],
         "xaxis": "x",
         "y": [
          0.9117871040203043,
          0.8196422036646063,
          0.7406833506699724,
          0.6577629421473564,
          0.5711488539272493,
          0.49984571905114955,
          0.4351247568109242,
          0.3808747606688257,
          0.3307628168697427
         ],
         "yaxis": "y"
        },
        {
         "line": {
          "color": "red",
          "dash": "solid",
          "width": 2
         },
         "mode": "lines+markers",
         "name": "numpyro neural network",
         "showlegend": true,
         "type": "scatter",
         "x": [
          10,
          15,
          23,
          36,
          56,
          86,
          133,
          205,
          316
         ],
         "xaxis": "x",
         "y": [
          0.9623288926151063,
          0.940086869093088,
          0.9324065198500952,
          0.9327979317078223,
          0.9260207331842847,
          0.9283104424293225,
          0.920645362801022,
          0.9217850588835202,
          0.9218481050597297
         ],
         "yaxis": "y"
        },
        {
         "line": {
          "color": "green",
          "dash": "dash",
          "width": 2
         },
         "mode": "lines+markers",
         "name": "BOHAMIANN2000-2000",
         "showlegend": true,
         "type": "scatter",
         "x": [
          10,
          15,
          23,
          36,
          56,
          86,
          133,
          205,
          316
         ],
         "xaxis": "x",
         "y": [
          1.0077565945593119,
          0.9187467116498449,
          0.692923975949421,
          0.6238357437471532,
          0.4851153607356026,
          0.4118238255685973,
          0.3746356040367435,
          0.37706375283618365,
          0.3626198560287728
         ],
         "yaxis": "y"
        },
        {
         "line": {
          "color": "green",
          "dash": "solid",
          "width": 2
         },
         "mode": "lines+markers",
         "name": "BOHAMIANN",
         "showlegend": true,
         "type": "scatter",
         "x": [
          10,
          15,
          23,
          36,
          56,
          86,
          133,
          205,
          316
         ],
         "xaxis": "x",
         "y": [
          0.9963339985106874,
          0.9088340023514871,
          0.7791223493148246,
          0.5814111986922255,
          0.541136084167143,
          0.5268670067298301,
          0.49684445809909733,
          0.4979302331728312,
          0.4843487885542444
         ],
         "yaxis": "y"
        },
        {
         "line": {
          "color": "blue",
          "dash": "solid",
          "width": 2
         },
         "mode": "lines+markers",
         "name": "Gaussian Process",
         "showlegend": true,
         "type": "scatter",
         "x": [
          10,
          15,
          23,
          36,
          56,
          86,
          133,
          205,
          316
         ],
         "xaxis": "x",
         "y": [
          1.10559132061029,
          1.0953486591374224,
          0.8502887037420918,
          0.7796513039871431,
          0.5850714230507951,
          0.6461651737621992,
          0.4448773171953205,
          0.38230933611233364,
          0.32485454005216885
         ],
         "yaxis": "y"
        },
        {
         "line": {
          "color": "green",
          "dash": "dash",
          "width": 2
         },
         "mode": "lines+markers",
         "name": "BOHAMIANN4000-4000",
         "showlegend": true,
         "type": "scatter",
         "x": [
          10,
          15,
          23,
          36,
          56,
          86,
          133,
          205,
          316
         ],
         "xaxis": "x",
         "y": [
          1.0540005882923849,
          0.907587592056241,
          0.6949105330571186,
          0.6308218332389457,
          0.5085056422999521,
          0.38718603694295617,
          0.3234540918491748,
          0.303641777262352,
          0.2902145844263501
         ],
         "yaxis": "y"
        },
        {
         "line": {
          "color": "blue",
          "dash": "dashdot",
          "width": 2
         },
         "mode": "lines+markers",
         "name": "Gaussian Process - sklearn",
         "showlegend": true,
         "type": "scatter",
         "x": [
          10,
          15,
          23,
          36,
          56,
          86,
          133,
          205,
          316
         ],
         "xaxis": "x",
         "y": [
          0.7987147228159022,
          0.705532088626642,
          0.6406257854343348,
          0.5507163991160924,
          0.4777674371269955,
          0.4080983412260077,
          0.3588922488219562,
          0.31525100338704115,
          0.27202758102996527
         ],
         "yaxis": "y"
        },
        {
         "line": {
          "color": "blue",
          "dash": "dash",
          "width": 2
         },
         "mode": "lines+markers",
         "name": "Gaussian Process noise-0.01",
         "showlegend": true,
         "type": "scatter",
         "x": [
          10,
          15,
          23,
          36,
          56,
          86,
          133,
          205,
          316
         ],
         "xaxis": "x",
         "y": [
          1.9025216845949955,
          0.9372631708508732,
          0.9198701158918001,
          0.7991908834576602,
          0.6400597751255891,
          0.5947505526720921,
          0.4404471579678247,
          0.3774995161278343,
          0.3211632051417338
         ],
         "yaxis": "y"
        },
        {
         "line": {
          "color": "black",
          "dash": "solid",
          "width": 2
         },
         "mode": "lines+markers",
         "name": "empirical mean and std regression",
         "showlegend": false,
         "type": "scatter",
         "x": [
          10,
          15,
          23,
          36,
          56,
          86,
          133,
          205,
          316
         ],
         "xaxis": "x2",
         "y": [
          0.2427250609007515,
          0.2575589917610309,
          0.26968602085508475,
          0.27818373104809396,
          0.2795784244398135,
          0.2783718955781355,
          0.2796671433685171,
          0.2814729387500135,
          0.28096888399719405
         ],
         "yaxis": "y2"
        },
        {
         "line": {
          "color": "red",
          "dash": "dash",
          "width": 2
         },
         "mode": "lines+markers",
         "name": "numpyro neural network2000-2000",
         "showlegend": false,
         "type": "scatter",
         "x": [
          10,
          15,
          23,
          36,
          56,
          86,
          133,
          205,
          316
         ],
         "xaxis": "x2",
         "y": [
          0.12398612520656105,
          0.07191632965678597,
          0.02727094530452234,
          0.01592969149215833,
          0.04240862966576645,
          0.033841046397046146,
          0.03063961422759875,
          0.027484747580734725,
          0.025373281879762316
         ],
         "yaxis": "y2"
        },
        {
         "line": {
          "color": "orange",
          "dash": "solid",
          "width": 2
         },
         "mode": "lines+markers",
         "name": "Gaussian Mixture Regression",
         "showlegend": false,
         "type": "scatter",
         "x": [
          10,
          15,
          23,
          36,
          56,
          86,
          133,
          205,
          316
         ],
         "xaxis": "x2",
         "y": [
          0.10818683603026169,
          0.12424112122317123,
          0.13952727012719063,
          0.15795628810769705,
          0.1767646780797321,
          0.19282264561620266,
          0.207883255079445,
          0.22045136553868108,
          0.22942317446450028
         ],
         "yaxis": "y2"
        },
        {
         "line": {
          "color": "red",
          "dash": "solid",
          "width": 2
         },
         "mode": "lines+markers",
         "name": "numpyro neural network",
         "showlegend": false,
         "type": "scatter",
         "x": [
          10,
          15,
          23,
          36,
          56,
          86,
          133,
          205,
          316
         ],
         "xaxis": "x2",
         "y": [
          0.22273242277562705,
          0.2170818658787983,
          0.14745060504718782,
          0.16841102869815483,
          0.13791495924292627,
          0.1631900947172258,
          0.1238796080986103,
          0.15611377911620222,
          0.11722054360782876
         ],
         "yaxis": "y2"
        },
        {
         "line": {
          "color": "green",
          "dash": "dash",
          "width": 2
         },
         "mode": "lines+markers",
         "name": "BOHAMIANN2000-2000",
         "showlegend": false,
         "type": "scatter",
         "x": [
          10,
          15,
          23,
          36,
          56,
          86,
          133,
          205,
          316
         ],
         "xaxis": "x2",
         "y": [
          0.08499997654638707,
          0.07433683405641556,
          0.05933191038470908,
          0.05531891129552213,
          0.08914603189306466,
          0.10603423915906401,
          0.11171130218346496,
          0.12271281058466042,
          0.14073290097340851
         ],
         "yaxis": "y2"
        },
        {
         "line": {
          "color": "green",
          "dash": "solid",
          "width": 2
         },
         "mode": "lines+markers",
         "name": "BOHAMIANN",
         "showlegend": false,
         "type": "scatter",
         "x": [
          10,
          15,
          23,
          36,
          56,
          86,
          133,
          205,
          316
         ],
         "xaxis": "x2",
         "y": [
          0.06946957886054493,
          0.06458269504615642,
          0.0833853853308368,
          0.06310596380307873,
          0.06821634737698676,
          0.1048006317410423,
          0.08950292142613105,
          0.11497991216839881,
          0.11569598583123078
         ],
         "yaxis": "y2"
        },
        {
         "line": {
          "color": "blue",
          "dash": "solid",
          "width": 2
         },
         "mode": "lines+markers",
         "name": "Gaussian Process",
         "showlegend": false,
         "type": "scatter",
         "x": [
          10,
          15,
          23,
          36,
          56,
          86,
          133,
          205,
          316
         ],
         "xaxis": "x2",
         "y": [
          0.09013119487643917,
          0.2250301362763994,
          0.12568959545460998,
          0.22869697821639595,
          0.1882082803640226,
          0.2403746390461705,
          0.2296053500108184,
          0.23211465961625866,
          0.2531398152631625
         ],
         "yaxis": "y2"
        },
        {
         "line": {
          "color": "green",
          "dash": "dash",
          "width": 2
         },
         "mode": "lines+markers",
         "name": "BOHAMIANN4000-4000",
         "showlegend": false,
         "type": "scatter",
         "x": [
          10,
          15,
          23,
          36,
          56,
          86,
          133,
          205,
          316
         ],
         "xaxis": "x2",
         "y": [
          0.046114173959880454,
          0.04841077319154407,
          0.04008231233897456,
          0.0351662878787727,
          0.06249913331189238,
          0.11173293077368925,
          0.1280467742431284,
          0.15473705489940123,
          0.16493844154377335
         ],
         "yaxis": "y2"
        },
        {
         "line": {
          "color": "blue",
          "dash": "dashdot",
          "width": 2
         },
         "mode": "lines+markers",
         "name": "Gaussian Process - sklearn",
         "showlegend": false,
         "type": "scatter",
         "x": [
          10,
          15,
          23,
          36,
          56,
          86,
          133,
          205,
          316
         ],
         "xaxis": "x2",
         "y": [
          0.2376280288767716,
          0.2462879304046779,
          0.24964005196740732,
          0.2623118597705614,
          0.2713121305447365,
          0.27368144560914776,
          0.26501836841513743,
          0.25833827769821105,
          0.2644713708560213
         ],
         "yaxis": "y2"
        },
        {
         "line": {
          "color": "blue",
          "dash": "dash",
          "width": 2
         },
         "mode": "lines+markers",
         "name": "Gaussian Process noise-0.01",
         "showlegend": false,
         "type": "scatter",
         "x": [
          10,
          15,
          23,
          36,
          56,
          86,
          133,
          205,
          316
         ],
         "xaxis": "x2",
         "y": [
          0.2655493226046792,
          0.28413966148550573,
          0.2318922159521309,
          0.23201510864652267,
          0.24607661940420025,
          0.255445867782773,
          0.2544568387435405,
          0.2366455710550289,
          0.24917472702814983
         ],
         "yaxis": "y2"
        }
       ],
       "layout": {
        "margin": {
         "b": 0,
         "l": 0,
         "r": 0,
         "t": 30
        },
        "template": {
         "data": {
          "bar": [
           {
            "error_x": {
             "color": "#2a3f5f"
            },
            "error_y": {
             "color": "#2a3f5f"
            },
            "marker": {
             "line": {
              "color": "#E5ECF6",
              "width": 0.5
             },
             "pattern": {
              "fillmode": "overlay",
              "size": 10,
              "solidity": 0.2
             }
            },
            "type": "bar"
           }
          ],
          "barpolar": [
           {
            "marker": {
             "line": {
              "color": "#E5ECF6",
              "width": 0.5
             },
             "pattern": {
              "fillmode": "overlay",
              "size": 10,
              "solidity": 0.2
             }
            },
            "type": "barpolar"
           }
          ],
          "carpet": [
           {
            "aaxis": {
             "endlinecolor": "#2a3f5f",
             "gridcolor": "white",
             "linecolor": "white",
             "minorgridcolor": "white",
             "startlinecolor": "#2a3f5f"
            },
            "baxis": {
             "endlinecolor": "#2a3f5f",
             "gridcolor": "white",
             "linecolor": "white",
             "minorgridcolor": "white",
             "startlinecolor": "#2a3f5f"
            },
            "type": "carpet"
           }
          ],
          "choropleth": [
           {
            "colorbar": {
             "outlinewidth": 0,
             "ticks": ""
            },
            "type": "choropleth"
           }
          ],
          "contour": [
           {
            "colorbar": {
             "outlinewidth": 0,
             "ticks": ""
            },
            "colorscale": [
             [
              0,
              "#0d0887"
             ],
             [
              0.1111111111111111,
              "#46039f"
             ],
             [
              0.2222222222222222,
              "#7201a8"
             ],
             [
              0.3333333333333333,
              "#9c179e"
             ],
             [
              0.4444444444444444,
              "#bd3786"
             ],
             [
              0.5555555555555556,
              "#d8576b"
             ],
             [
              0.6666666666666666,
              "#ed7953"
             ],
             [
              0.7777777777777778,
              "#fb9f3a"
             ],
             [
              0.8888888888888888,
              "#fdca26"
             ],
             [
              1,
              "#f0f921"
             ]
            ],
            "type": "contour"
           }
          ],
          "contourcarpet": [
           {
            "colorbar": {
             "outlinewidth": 0,
             "ticks": ""
            },
            "type": "contourcarpet"
           }
          ],
          "heatmap": [
           {
            "colorbar": {
             "outlinewidth": 0,
             "ticks": ""
            },
            "colorscale": [
             [
              0,
              "#0d0887"
             ],
             [
              0.1111111111111111,
              "#46039f"
             ],
             [
              0.2222222222222222,
              "#7201a8"
             ],
             [
              0.3333333333333333,
              "#9c179e"
             ],
             [
              0.4444444444444444,
              "#bd3786"
             ],
             [
              0.5555555555555556,
              "#d8576b"
             ],
             [
              0.6666666666666666,
              "#ed7953"
             ],
             [
              0.7777777777777778,
              "#fb9f3a"
             ],
             [
              0.8888888888888888,
              "#fdca26"
             ],
             [
              1,
              "#f0f921"
             ]
            ],
            "type": "heatmap"
           }
          ],
          "heatmapgl": [
           {
            "colorbar": {
             "outlinewidth": 0,
             "ticks": ""
            },
            "colorscale": [
             [
              0,
              "#0d0887"
             ],
             [
              0.1111111111111111,
              "#46039f"
             ],
             [
              0.2222222222222222,
              "#7201a8"
             ],
             [
              0.3333333333333333,
              "#9c179e"
             ],
             [
              0.4444444444444444,
              "#bd3786"
             ],
             [
              0.5555555555555556,
              "#d8576b"
             ],
             [
              0.6666666666666666,
              "#ed7953"
             ],
             [
              0.7777777777777778,
              "#fb9f3a"
             ],
             [
              0.8888888888888888,
              "#fdca26"
             ],
             [
              1,
              "#f0f921"
             ]
            ],
            "type": "heatmapgl"
           }
          ],
          "histogram": [
           {
            "marker": {
             "pattern": {
              "fillmode": "overlay",
              "size": 10,
              "solidity": 0.2
             }
            },
            "type": "histogram"
           }
          ],
          "histogram2d": [
           {
            "colorbar": {
             "outlinewidth": 0,
             "ticks": ""
            },
            "colorscale": [
             [
              0,
              "#0d0887"
             ],
             [
              0.1111111111111111,
              "#46039f"
             ],
             [
              0.2222222222222222,
              "#7201a8"
             ],
             [
              0.3333333333333333,
              "#9c179e"
             ],
             [
              0.4444444444444444,
              "#bd3786"
             ],
             [
              0.5555555555555556,
              "#d8576b"
             ],
             [
              0.6666666666666666,
              "#ed7953"
             ],
             [
              0.7777777777777778,
              "#fb9f3a"
             ],
             [
              0.8888888888888888,
              "#fdca26"
             ],
             [
              1,
              "#f0f921"
             ]
            ],
            "type": "histogram2d"
           }
          ],
          "histogram2dcontour": [
           {
            "colorbar": {
             "outlinewidth": 0,
             "ticks": ""
            },
            "colorscale": [
             [
              0,
              "#0d0887"
             ],
             [
              0.1111111111111111,
              "#46039f"
             ],
             [
              0.2222222222222222,
              "#7201a8"
             ],
             [
              0.3333333333333333,
              "#9c179e"
             ],
             [
              0.4444444444444444,
              "#bd3786"
             ],
             [
              0.5555555555555556,
              "#d8576b"
             ],
             [
              0.6666666666666666,
              "#ed7953"
             ],
             [
              0.7777777777777778,
              "#fb9f3a"
             ],
             [
              0.8888888888888888,
              "#fdca26"
             ],
             [
              1,
              "#f0f921"
             ]
            ],
            "type": "histogram2dcontour"
           }
          ],
          "mesh3d": [
           {
            "colorbar": {
             "outlinewidth": 0,
             "ticks": ""
            },
            "type": "mesh3d"
           }
          ],
          "parcoords": [
           {
            "line": {
             "colorbar": {
              "outlinewidth": 0,
              "ticks": ""
             }
            },
            "type": "parcoords"
           }
          ],
          "pie": [
           {
            "automargin": true,
            "type": "pie"
           }
          ],
          "scatter": [
           {
            "fillpattern": {
             "fillmode": "overlay",
             "size": 10,
             "solidity": 0.2
            },
            "type": "scatter"
           }
          ],
          "scatter3d": [
           {
            "line": {
             "colorbar": {
              "outlinewidth": 0,
              "ticks": ""
             }
            },
            "marker": {
             "colorbar": {
              "outlinewidth": 0,
              "ticks": ""
             }
            },
            "type": "scatter3d"
           }
          ],
          "scattercarpet": [
           {
            "marker": {
             "colorbar": {
              "outlinewidth": 0,
              "ticks": ""
             }
            },
            "type": "scattercarpet"
           }
          ],
          "scattergeo": [
           {
            "marker": {
             "colorbar": {
              "outlinewidth": 0,
              "ticks": ""
             }
            },
            "type": "scattergeo"
           }
          ],
          "scattergl": [
           {
            "marker": {
             "colorbar": {
              "outlinewidth": 0,
              "ticks": ""
             }
            },
            "type": "scattergl"
           }
          ],
          "scattermapbox": [
           {
            "marker": {
             "colorbar": {
              "outlinewidth": 0,
              "ticks": ""
             }
            },
            "type": "scattermapbox"
           }
          ],
          "scatterpolar": [
           {
            "marker": {
             "colorbar": {
              "outlinewidth": 0,
              "ticks": ""
             }
            },
            "type": "scatterpolar"
           }
          ],
          "scatterpolargl": [
           {
            "marker": {
             "colorbar": {
              "outlinewidth": 0,
              "ticks": ""
             }
            },
            "type": "scatterpolargl"
           }
          ],
          "scatterternary": [
           {
            "marker": {
             "colorbar": {
              "outlinewidth": 0,
              "ticks": ""
             }
            },
            "type": "scatterternary"
           }
          ],
          "surface": [
           {
            "colorbar": {
             "outlinewidth": 0,
             "ticks": ""
            },
            "colorscale": [
             [
              0,
              "#0d0887"
             ],
             [
              0.1111111111111111,
              "#46039f"
             ],
             [
              0.2222222222222222,
              "#7201a8"
             ],
             [
              0.3333333333333333,
              "#9c179e"
             ],
             [
              0.4444444444444444,
              "#bd3786"
             ],
             [
              0.5555555555555556,
              "#d8576b"
             ],
             [
              0.6666666666666666,
              "#ed7953"
             ],
             [
              0.7777777777777778,
              "#fb9f3a"
             ],
             [
              0.8888888888888888,
              "#fdca26"
             ],
             [
              1,
              "#f0f921"
             ]
            ],
            "type": "surface"
           }
          ],
          "table": [
           {
            "cells": {
             "fill": {
              "color": "#EBF0F8"
             },
             "line": {
              "color": "white"
             }
            },
            "header": {
             "fill": {
              "color": "#C8D4E3"
             },
             "line": {
              "color": "white"
             }
            },
            "type": "table"
           }
          ]
         },
         "layout": {
          "annotationdefaults": {
           "arrowcolor": "#2a3f5f",
           "arrowhead": 0,
           "arrowwidth": 1
          },
          "autotypenumbers": "strict",
          "coloraxis": {
           "colorbar": {
            "outlinewidth": 0,
            "ticks": ""
           }
          },
          "colorscale": {
           "diverging": [
            [
             0,
             "#8e0152"
            ],
            [
             0.1,
             "#c51b7d"
            ],
            [
             0.2,
             "#de77ae"
            ],
            [
             0.3,
             "#f1b6da"
            ],
            [
             0.4,
             "#fde0ef"
            ],
            [
             0.5,
             "#f7f7f7"
            ],
            [
             0.6,
             "#e6f5d0"
            ],
            [
             0.7,
             "#b8e186"
            ],
            [
             0.8,
             "#7fbc41"
            ],
            [
             0.9,
             "#4d9221"
            ],
            [
             1,
             "#276419"
            ]
           ],
           "sequential": [
            [
             0,
             "#0d0887"
            ],
            [
             0.1111111111111111,
             "#46039f"
            ],
            [
             0.2222222222222222,
             "#7201a8"
            ],
            [
             0.3333333333333333,
             "#9c179e"
            ],
            [
             0.4444444444444444,
             "#bd3786"
            ],
            [
             0.5555555555555556,
             "#d8576b"
            ],
            [
             0.6666666666666666,
             "#ed7953"
            ],
            [
             0.7777777777777778,
             "#fb9f3a"
            ],
            [
             0.8888888888888888,
             "#fdca26"
            ],
            [
             1,
             "#f0f921"
            ]
           ],
           "sequentialminus": [
            [
             0,
             "#0d0887"
            ],
            [
             0.1111111111111111,
             "#46039f"
            ],
            [
             0.2222222222222222,
             "#7201a8"
            ],
            [
             0.3333333333333333,
             "#9c179e"
            ],
            [
             0.4444444444444444,
             "#bd3786"
            ],
            [
             0.5555555555555556,
             "#d8576b"
            ],
            [
             0.6666666666666666,
             "#ed7953"
            ],
            [
             0.7777777777777778,
             "#fb9f3a"
            ],
            [
             0.8888888888888888,
             "#fdca26"
            ],
            [
             1,
             "#f0f921"
            ]
           ]
          },
          "colorway": [
           "#636efa",
           "#EF553B",
           "#00cc96",
           "#ab63fa",
           "#FFA15A",
           "#19d3f3",
           "#FF6692",
           "#B6E880",
           "#FF97FF",
           "#FECB52"
          ],
          "font": {
           "color": "#2a3f5f"
          },
          "geo": {
           "bgcolor": "white",
           "lakecolor": "white",
           "landcolor": "#E5ECF6",
           "showlakes": true,
           "showland": true,
           "subunitcolor": "white"
          },
          "hoverlabel": {
           "align": "left"
          },
          "hovermode": "closest",
          "mapbox": {
           "style": "light"
          },
          "paper_bgcolor": "white",
          "plot_bgcolor": "#E5ECF6",
          "polar": {
           "angularaxis": {
            "gridcolor": "white",
            "linecolor": "white",
            "ticks": ""
           },
           "bgcolor": "#E5ECF6",
           "radialaxis": {
            "gridcolor": "white",
            "linecolor": "white",
            "ticks": ""
           }
          },
          "scene": {
           "xaxis": {
            "backgroundcolor": "#E5ECF6",
            "gridcolor": "white",
            "gridwidth": 2,
            "linecolor": "white",
            "showbackground": true,
            "ticks": "",
            "zerolinecolor": "white"
           },
           "yaxis": {
            "backgroundcolor": "#E5ECF6",
            "gridcolor": "white",
            "gridwidth": 2,
            "linecolor": "white",
            "showbackground": true,
            "ticks": "",
            "zerolinecolor": "white"
           },
           "zaxis": {
            "backgroundcolor": "#E5ECF6",
            "gridcolor": "white",
            "gridwidth": 2,
            "linecolor": "white",
            "showbackground": true,
            "ticks": "",
            "zerolinecolor": "white"
           }
          },
          "shapedefaults": {
           "line": {
            "color": "#2a3f5f"
           }
          },
          "ternary": {
           "aaxis": {
            "gridcolor": "white",
            "linecolor": "white",
            "ticks": ""
           },
           "baxis": {
            "gridcolor": "white",
            "linecolor": "white",
            "ticks": ""
           },
           "bgcolor": "#E5ECF6",
           "caxis": {
            "gridcolor": "white",
            "linecolor": "white",
            "ticks": ""
           }
          },
          "title": {
           "x": 0.05
          },
          "xaxis": {
           "automargin": true,
           "gridcolor": "white",
           "linecolor": "white",
           "ticks": "",
           "title": {
            "standoff": 15
           },
           "zerolinecolor": "white",
           "zerolinewidth": 2
          },
          "yaxis": {
           "automargin": true,
           "gridcolor": "white",
           "linecolor": "white",
           "ticks": "",
           "title": {
            "standoff": 15
           },
           "zerolinecolor": "white",
           "zerolinewidth": 2
          }
         }
        },
        "title": {
         "text": "Weierstrass dim 2"
        },
        "xaxis": {
         "anchor": "y",
         "domain": [
          0,
          0.45
         ]
        },
        "xaxis2": {
         "anchor": "y2",
         "domain": [
          0.55,
          1
         ]
        },
        "yaxis": {
         "anchor": "x",
         "domain": [
          0,
          1
         ],
         "title": {
          "text": "mean_rel_pred_error"
         }
        },
        "yaxis2": {
         "anchor": "x2",
         "domain": [
          0,
          1
         ]
        }
       }
      }
     },
     "metadata": {},
     "output_type": "display_data"
    }
   ],
   "source": [
    "analysis_regression_performance_plotly(\"Weierstrass_dim_2\",type = \"mean_rel_pred_error\",  means = True)"
   ]
  },
  {
   "cell_type": "markdown",
   "metadata": {},
   "source": [
    "#### Schwefel26"
   ]
  },
  {
   "cell_type": "code",
   "execution_count": 5,
   "metadata": {},
   "outputs": [
    {
     "data": {
      "application/vnd.plotly.v1+json": {
       "config": {
        "plotlyServerURL": "https://plot.ly"
       },
       "data": [
        {
         "line": {
          "color": "black",
          "dash": "solid",
          "width": 2
         },
         "mode": "lines+markers",
         "name": "empirical mean and std regression",
         "showlegend": true,
         "type": "scatter",
         "x": [
          10,
          15,
          23,
          36,
          56,
          86,
          133,
          205,
          316
         ],
         "xaxis": "x",
         "y": [
          500.3829198895109,
          492.98014167702615,
          495.1037931955171,
          492.86138667694894,
          491.31251112380573,
          489.7869368187379,
          488.32818883211525,
          487.8501288795035,
          487.6823147436691
         ],
         "yaxis": "y"
        },
        {
         "line": {
          "color": "red",
          "dash": "dash",
          "width": 2
         },
         "mode": "lines+markers",
         "name": "numpyro neural network2000-2000",
         "showlegend": true,
         "type": "scatter",
         "x": [
          10,
          15,
          23,
          36,
          56,
          86,
          133,
          205,
          316
         ],
         "xaxis": "x",
         "y": [
          516.1862447102865,
          514.8897562662761,
          515.5406697591146,
          506.67308349609374,
          512.7787679036459,
          501.1370381673177,
          494.09657999674477,
          491.3119873046875,
          490.6793273925781
         ],
         "yaxis": "y"
        },
        {
         "line": {
          "color": "orange",
          "dash": "solid",
          "width": 2
         },
         "mode": "lines+markers",
         "name": "Gaussian Mixture Regression",
         "showlegend": true,
         "type": "scatter",
         "x": [
          10,
          15,
          23,
          36,
          56,
          86,
          133,
          205,
          316
         ],
         "xaxis": "x",
         "y": [
          645.9840384452145,
          648.1701427275082,
          646.0400181181923,
          653.5100413093404,
          652.592232363278,
          651.0234179181767,
          649.2836989038207,
          652.1871381656498,
          651.9486346065399
         ],
         "yaxis": "y"
        },
        {
         "line": {
          "color": "green",
          "dash": "dash",
          "width": 2
         },
         "mode": "lines+markers",
         "name": "BOHAMIANN2000-2000",
         "showlegend": true,
         "type": "scatter",
         "x": [
          10,
          15,
          23,
          36,
          56,
          86,
          133,
          205,
          316
         ],
         "xaxis": "x",
         "y": [
          715.4160101032118,
          663.5152456905485,
          589.7126116547767,
          595.1492701314855,
          575.4484453897172,
          571.533272022741,
          590.280665648961,
          611.3143824399735,
          640.5806750164688
         ],
         "yaxis": "y"
        },
        {
         "line": {
          "color": "blue",
          "dash": "dash",
          "width": 2
         },
         "mode": "lines+markers",
         "name": "Gaussian Process noise-0.01",
         "showlegend": true,
         "type": "scatter",
         "x": [
          10,
          15,
          23,
          36,
          56,
          86,
          133,
          205,
          316
         ],
         "xaxis": "x",
         "y": [
          2575.3069819347847,
          2474.05411663982,
          2805.611438055777,
          2601.3497038029354,
          2564.7873688520203,
          2504.727073426996,
          2474.500078515663,
          2480.620685135983,
          2456.600953149097
         ],
         "yaxis": "y"
        },
        {
         "line": {
          "color": "green",
          "dash": "solid",
          "width": 2
         },
         "mode": "lines+markers",
         "name": "BOHAMIANN",
         "showlegend": true,
         "type": "scatter",
         "x": [
          10,
          15,
          23,
          36,
          56,
          86,
          133,
          205,
          316
         ],
         "xaxis": "x",
         "y": [
          667.6801305381865,
          666.440086867946,
          632.2320299821231,
          596.9424180001726,
          583.595899758066,
          555.265534006966,
          541.3458046634909,
          504.63861637480045,
          492.7615503338286
         ],
         "yaxis": "y"
        },
        {
         "line": {
          "color": "red",
          "dash": "solid",
          "width": 2
         },
         "mode": "lines+markers",
         "name": "numpyro neural network",
         "showlegend": true,
         "type": "scatter",
         "x": [
          10,
          15,
          23,
          36,
          56,
          86,
          133,
          205,
          316
         ],
         "xaxis": "x",
         "y": [
          548.0885710539641,
          531.017581515842,
          522.2178638599537,
          512.0459933810764,
          503.81000547055845,
          496.48468130606193,
          491.773358380353,
          489.9159918891059,
          489.551424379702
         ],
         "yaxis": "y"
        },
        {
         "line": {
          "color": "blue",
          "dash": "solid",
          "width": 2
         },
         "mode": "lines+markers",
         "name": "Gaussian Process",
         "showlegend": true,
         "type": "scatter",
         "x": [
          10,
          15,
          23,
          36,
          56,
          86,
          133,
          205,
          316
         ],
         "xaxis": "x",
         "y": [
          3362.2727981189555,
          3155.3875179243328,
          3179.3762654832926,
          3124.3404459329913,
          2871.2079513164185,
          2602.2445009410776,
          2497.662685940993,
          2498.1953883135575,
          2463.808152539815
         ],
         "yaxis": "y"
        },
        {
         "line": {
          "color": "blue",
          "dash": "dashdot",
          "width": 2
         },
         "mode": "lines+markers",
         "name": "Gaussian Process - sklearn",
         "showlegend": true,
         "type": "scatter",
         "x": [
          10,
          15,
          23,
          36,
          56,
          86,
          133,
          205,
          316
         ],
         "xaxis": "x",
         "y": [
          499.8276378243475,
          494.611206829284,
          501.8322139737086,
          493.4118516381219,
          492.63362534856213,
          491.2581100808959,
          486.25979813264723,
          484.8523770668936,
          482.9171548808326
         ],
         "yaxis": "y"
        },
        {
         "line": {
          "color": "green",
          "dash": "dash",
          "width": 2
         },
         "mode": "lines+markers",
         "name": "BOHAMIANN4000-4000",
         "showlegend": true,
         "type": "scatter",
         "x": [
          10,
          15,
          23,
          36,
          56,
          86,
          133,
          205,
          316
         ],
         "xaxis": "x",
         "y": [
          821.753448731195,
          758.7792829175542,
          592.3497238018713,
          584.7331199809473,
          559.1718133168821,
          563.3624148933587,
          570.5732267815443,
          597.3478599123983,
          626.3918678204727
         ],
         "yaxis": "y"
        },
        {
         "line": {
          "color": "black",
          "dash": "solid",
          "width": 2
         },
         "mode": "lines+markers",
         "name": "empirical mean and std regression",
         "showlegend": false,
         "type": "scatter",
         "x": [
          10,
          15,
          23,
          36,
          56,
          86,
          133,
          205,
          316
         ],
         "xaxis": "x2",
         "y": [
          0.2731240714529303,
          0.2769841813002623,
          0.2760838032905521,
          0.2827098551857713,
          0.2797603547590164,
          0.2804111890879073,
          0.2813548367521903,
          0.2830438049119176,
          0.2815243005720697
         ],
         "yaxis": "y2"
        },
        {
         "line": {
          "color": "red",
          "dash": "dash",
          "width": 2
         },
         "mode": "lines+markers",
         "name": "numpyro neural network2000-2000",
         "showlegend": false,
         "type": "scatter",
         "x": [
          10,
          15,
          23,
          36,
          56,
          86,
          133,
          205,
          316
         ],
         "xaxis": "x2",
         "y": [
          0.35330691231845746,
          0.3315778219750104,
          0.12248330813814706,
          0.03553973180336598,
          0.12518371275357437,
          0.0775075694580869,
          0.033426391118912005,
          0.010834675603807065,
          0.00991919565709708
         ],
         "yaxis": "y2"
        },
        {
         "line": {
          "color": "orange",
          "dash": "solid",
          "width": 2
         },
         "mode": "lines+markers",
         "name": "Gaussian Mixture Regression",
         "showlegend": false,
         "type": "scatter",
         "x": [
          10,
          15,
          23,
          36,
          56,
          86,
          133,
          205,
          316
         ],
         "xaxis": "x2",
         "y": [
          0.08029525062872071,
          0.0832805641674984,
          0.08534615468101281,
          0.08778457391155756,
          0.08773573704492181,
          0.08924295197330911,
          0.09006130594357489,
          0.09132311635457267,
          0.09165922262478941
         ],
         "yaxis": "y2"
        },
        {
         "line": {
          "color": "green",
          "dash": "dash",
          "width": 2
         },
         "mode": "lines+markers",
         "name": "BOHAMIANN2000-2000",
         "showlegend": false,
         "type": "scatter",
         "x": [
          10,
          15,
          23,
          36,
          56,
          86,
          133,
          205,
          316
         ],
         "xaxis": "x2",
         "y": [
          0.10331556126658388,
          0.10238115293677608,
          0.03078668123920617,
          0.03908973144330485,
          0.030612578186284423,
          0.027391463523314657,
          0.02656967193007261,
          0.034438080194558414,
          0.04065122402603775
         ],
         "yaxis": "y2"
        },
        {
         "line": {
          "color": "blue",
          "dash": "dash",
          "width": 2
         },
         "mode": "lines+markers",
         "name": "Gaussian Process noise-0.01",
         "showlegend": false,
         "type": "scatter",
         "x": [
          10,
          15,
          23,
          36,
          56,
          86,
          133,
          205,
          316
         ],
         "xaxis": "x2",
         "y": [
          0.17960163946803992,
          0.12721959983347192,
          0.13509497054602446,
          0.17050030560879365,
          0.18690048399638545,
          0.21038244238101642,
          0.22662708441983753,
          0.23892546957460273,
          0.24064669669814656
         ],
         "yaxis": "y2"
        },
        {
         "line": {
          "color": "green",
          "dash": "solid",
          "width": 2
         },
         "mode": "lines+markers",
         "name": "BOHAMIANN",
         "showlegend": false,
         "type": "scatter",
         "x": [
          10,
          15,
          23,
          36,
          56,
          86,
          133,
          205,
          316
         ],
         "xaxis": "x2",
         "y": [
          0.10560940825815995,
          0.09926067782843562,
          0.023564289969084794,
          0.04309181126862333,
          0.022780708572488657,
          0.034979533208026124,
          0.03962435768596943,
          0.04732266220792588,
          0.0417891974331071
         ],
         "yaxis": "y2"
        },
        {
         "line": {
          "color": "red",
          "dash": "solid",
          "width": 2
         },
         "mode": "lines+markers",
         "name": "numpyro neural network",
         "showlegend": false,
         "type": "scatter",
         "x": [
          10,
          15,
          23,
          36,
          56,
          86,
          133,
          205,
          316
         ],
         "xaxis": "x2",
         "y": [
          0.35232745319870057,
          0.3122554950781654,
          0.25806843376908445,
          0.2087697324055232,
          0.20299582503352073,
          0.1726861406413581,
          0.15064464999526483,
          0.1364641304534015,
          0.1329451600257542
         ],
         "yaxis": "y2"
        },
        {
         "line": {
          "color": "blue",
          "dash": "solid",
          "width": 2
         },
         "mode": "lines+markers",
         "name": "Gaussian Process",
         "showlegend": false,
         "type": "scatter",
         "x": [
          10,
          15,
          23,
          36,
          56,
          86,
          133,
          205,
          316
         ],
         "xaxis": "x2",
         "y": [
          0.09385326899025151,
          0.08768102840153043,
          0.08446247002700223,
          0.09821458434698631,
          0.11482191435766884,
          0.14179773993666114,
          0.15729081968308883,
          0.16331197162682046,
          0.16647093337832572
         ],
         "yaxis": "y2"
        },
        {
         "line": {
          "color": "blue",
          "dash": "dashdot",
          "width": 2
         },
         "mode": "lines+markers",
         "name": "Gaussian Process - sklearn",
         "showlegend": false,
         "type": "scatter",
         "x": [
          10,
          15,
          23,
          36,
          56,
          86,
          133,
          205,
          316
         ],
         "xaxis": "x2",
         "y": [
          0.26846418351568563,
          0.27213148732504483,
          0.2695347282907172,
          0.2813464785767516,
          0.27632471741082976,
          0.27655516533367064,
          0.2801095400158666,
          0.2805523526854374,
          0.2796159035636844
         ],
         "yaxis": "y2"
        },
        {
         "line": {
          "color": "green",
          "dash": "dash",
          "width": 2
         },
         "mode": "lines+markers",
         "name": "BOHAMIANN4000-4000",
         "showlegend": false,
         "type": "scatter",
         "x": [
          10,
          15,
          23,
          36,
          56,
          86,
          133,
          205,
          316
         ],
         "xaxis": "x2",
         "y": [
          0.07556584395893874,
          0.08032903538292574,
          0.03136768025068646,
          0.026403488872655433,
          0.021091270931060353,
          0.02078100270167654,
          0.020605665886539597,
          0.02724972652029849,
          0.03143333651654086
         ],
         "yaxis": "y2"
        }
       ],
       "layout": {
        "margin": {
         "b": 0,
         "l": 0,
         "r": 0,
         "t": 30
        },
        "template": {
         "data": {
          "bar": [
           {
            "error_x": {
             "color": "#2a3f5f"
            },
            "error_y": {
             "color": "#2a3f5f"
            },
            "marker": {
             "line": {
              "color": "#E5ECF6",
              "width": 0.5
             },
             "pattern": {
              "fillmode": "overlay",
              "size": 10,
              "solidity": 0.2
             }
            },
            "type": "bar"
           }
          ],
          "barpolar": [
           {
            "marker": {
             "line": {
              "color": "#E5ECF6",
              "width": 0.5
             },
             "pattern": {
              "fillmode": "overlay",
              "size": 10,
              "solidity": 0.2
             }
            },
            "type": "barpolar"
           }
          ],
          "carpet": [
           {
            "aaxis": {
             "endlinecolor": "#2a3f5f",
             "gridcolor": "white",
             "linecolor": "white",
             "minorgridcolor": "white",
             "startlinecolor": "#2a3f5f"
            },
            "baxis": {
             "endlinecolor": "#2a3f5f",
             "gridcolor": "white",
             "linecolor": "white",
             "minorgridcolor": "white",
             "startlinecolor": "#2a3f5f"
            },
            "type": "carpet"
           }
          ],
          "choropleth": [
           {
            "colorbar": {
             "outlinewidth": 0,
             "ticks": ""
            },
            "type": "choropleth"
           }
          ],
          "contour": [
           {
            "colorbar": {
             "outlinewidth": 0,
             "ticks": ""
            },
            "colorscale": [
             [
              0,
              "#0d0887"
             ],
             [
              0.1111111111111111,
              "#46039f"
             ],
             [
              0.2222222222222222,
              "#7201a8"
             ],
             [
              0.3333333333333333,
              "#9c179e"
             ],
             [
              0.4444444444444444,
              "#bd3786"
             ],
             [
              0.5555555555555556,
              "#d8576b"
             ],
             [
              0.6666666666666666,
              "#ed7953"
             ],
             [
              0.7777777777777778,
              "#fb9f3a"
             ],
             [
              0.8888888888888888,
              "#fdca26"
             ],
             [
              1,
              "#f0f921"
             ]
            ],
            "type": "contour"
           }
          ],
          "contourcarpet": [
           {
            "colorbar": {
             "outlinewidth": 0,
             "ticks": ""
            },
            "type": "contourcarpet"
           }
          ],
          "heatmap": [
           {
            "colorbar": {
             "outlinewidth": 0,
             "ticks": ""
            },
            "colorscale": [
             [
              0,
              "#0d0887"
             ],
             [
              0.1111111111111111,
              "#46039f"
             ],
             [
              0.2222222222222222,
              "#7201a8"
             ],
             [
              0.3333333333333333,
              "#9c179e"
             ],
             [
              0.4444444444444444,
              "#bd3786"
             ],
             [
              0.5555555555555556,
              "#d8576b"
             ],
             [
              0.6666666666666666,
              "#ed7953"
             ],
             [
              0.7777777777777778,
              "#fb9f3a"
             ],
             [
              0.8888888888888888,
              "#fdca26"
             ],
             [
              1,
              "#f0f921"
             ]
            ],
            "type": "heatmap"
           }
          ],
          "heatmapgl": [
           {
            "colorbar": {
             "outlinewidth": 0,
             "ticks": ""
            },
            "colorscale": [
             [
              0,
              "#0d0887"
             ],
             [
              0.1111111111111111,
              "#46039f"
             ],
             [
              0.2222222222222222,
              "#7201a8"
             ],
             [
              0.3333333333333333,
              "#9c179e"
             ],
             [
              0.4444444444444444,
              "#bd3786"
             ],
             [
              0.5555555555555556,
              "#d8576b"
             ],
             [
              0.6666666666666666,
              "#ed7953"
             ],
             [
              0.7777777777777778,
              "#fb9f3a"
             ],
             [
              0.8888888888888888,
              "#fdca26"
             ],
             [
              1,
              "#f0f921"
             ]
            ],
            "type": "heatmapgl"
           }
          ],
          "histogram": [
           {
            "marker": {
             "pattern": {
              "fillmode": "overlay",
              "size": 10,
              "solidity": 0.2
             }
            },
            "type": "histogram"
           }
          ],
          "histogram2d": [
           {
            "colorbar": {
             "outlinewidth": 0,
             "ticks": ""
            },
            "colorscale": [
             [
              0,
              "#0d0887"
             ],
             [
              0.1111111111111111,
              "#46039f"
             ],
             [
              0.2222222222222222,
              "#7201a8"
             ],
             [
              0.3333333333333333,
              "#9c179e"
             ],
             [
              0.4444444444444444,
              "#bd3786"
             ],
             [
              0.5555555555555556,
              "#d8576b"
             ],
             [
              0.6666666666666666,
              "#ed7953"
             ],
             [
              0.7777777777777778,
              "#fb9f3a"
             ],
             [
              0.8888888888888888,
              "#fdca26"
             ],
             [
              1,
              "#f0f921"
             ]
            ],
            "type": "histogram2d"
           }
          ],
          "histogram2dcontour": [
           {
            "colorbar": {
             "outlinewidth": 0,
             "ticks": ""
            },
            "colorscale": [
             [
              0,
              "#0d0887"
             ],
             [
              0.1111111111111111,
              "#46039f"
             ],
             [
              0.2222222222222222,
              "#7201a8"
             ],
             [
              0.3333333333333333,
              "#9c179e"
             ],
             [
              0.4444444444444444,
              "#bd3786"
             ],
             [
              0.5555555555555556,
              "#d8576b"
             ],
             [
              0.6666666666666666,
              "#ed7953"
             ],
             [
              0.7777777777777778,
              "#fb9f3a"
             ],
             [
              0.8888888888888888,
              "#fdca26"
             ],
             [
              1,
              "#f0f921"
             ]
            ],
            "type": "histogram2dcontour"
           }
          ],
          "mesh3d": [
           {
            "colorbar": {
             "outlinewidth": 0,
             "ticks": ""
            },
            "type": "mesh3d"
           }
          ],
          "parcoords": [
           {
            "line": {
             "colorbar": {
              "outlinewidth": 0,
              "ticks": ""
             }
            },
            "type": "parcoords"
           }
          ],
          "pie": [
           {
            "automargin": true,
            "type": "pie"
           }
          ],
          "scatter": [
           {
            "fillpattern": {
             "fillmode": "overlay",
             "size": 10,
             "solidity": 0.2
            },
            "type": "scatter"
           }
          ],
          "scatter3d": [
           {
            "line": {
             "colorbar": {
              "outlinewidth": 0,
              "ticks": ""
             }
            },
            "marker": {
             "colorbar": {
              "outlinewidth": 0,
              "ticks": ""
             }
            },
            "type": "scatter3d"
           }
          ],
          "scattercarpet": [
           {
            "marker": {
             "colorbar": {
              "outlinewidth": 0,
              "ticks": ""
             }
            },
            "type": "scattercarpet"
           }
          ],
          "scattergeo": [
           {
            "marker": {
             "colorbar": {
              "outlinewidth": 0,
              "ticks": ""
             }
            },
            "type": "scattergeo"
           }
          ],
          "scattergl": [
           {
            "marker": {
             "colorbar": {
              "outlinewidth": 0,
              "ticks": ""
             }
            },
            "type": "scattergl"
           }
          ],
          "scattermapbox": [
           {
            "marker": {
             "colorbar": {
              "outlinewidth": 0,
              "ticks": ""
             }
            },
            "type": "scattermapbox"
           }
          ],
          "scatterpolar": [
           {
            "marker": {
             "colorbar": {
              "outlinewidth": 0,
              "ticks": ""
             }
            },
            "type": "scatterpolar"
           }
          ],
          "scatterpolargl": [
           {
            "marker": {
             "colorbar": {
              "outlinewidth": 0,
              "ticks": ""
             }
            },
            "type": "scatterpolargl"
           }
          ],
          "scatterternary": [
           {
            "marker": {
             "colorbar": {
              "outlinewidth": 0,
              "ticks": ""
             }
            },
            "type": "scatterternary"
           }
          ],
          "surface": [
           {
            "colorbar": {
             "outlinewidth": 0,
             "ticks": ""
            },
            "colorscale": [
             [
              0,
              "#0d0887"
             ],
             [
              0.1111111111111111,
              "#46039f"
             ],
             [
              0.2222222222222222,
              "#7201a8"
             ],
             [
              0.3333333333333333,
              "#9c179e"
             ],
             [
              0.4444444444444444,
              "#bd3786"
             ],
             [
              0.5555555555555556,
              "#d8576b"
             ],
             [
              0.6666666666666666,
              "#ed7953"
             ],
             [
              0.7777777777777778,
              "#fb9f3a"
             ],
             [
              0.8888888888888888,
              "#fdca26"
             ],
             [
              1,
              "#f0f921"
             ]
            ],
            "type": "surface"
           }
          ],
          "table": [
           {
            "cells": {
             "fill": {
              "color": "#EBF0F8"
             },
             "line": {
              "color": "white"
             }
            },
            "header": {
             "fill": {
              "color": "#C8D4E3"
             },
             "line": {
              "color": "white"
             }
            },
            "type": "table"
           }
          ]
         },
         "layout": {
          "annotationdefaults": {
           "arrowcolor": "#2a3f5f",
           "arrowhead": 0,
           "arrowwidth": 1
          },
          "autotypenumbers": "strict",
          "coloraxis": {
           "colorbar": {
            "outlinewidth": 0,
            "ticks": ""
           }
          },
          "colorscale": {
           "diverging": [
            [
             0,
             "#8e0152"
            ],
            [
             0.1,
             "#c51b7d"
            ],
            [
             0.2,
             "#de77ae"
            ],
            [
             0.3,
             "#f1b6da"
            ],
            [
             0.4,
             "#fde0ef"
            ],
            [
             0.5,
             "#f7f7f7"
            ],
            [
             0.6,
             "#e6f5d0"
            ],
            [
             0.7,
             "#b8e186"
            ],
            [
             0.8,
             "#7fbc41"
            ],
            [
             0.9,
             "#4d9221"
            ],
            [
             1,
             "#276419"
            ]
           ],
           "sequential": [
            [
             0,
             "#0d0887"
            ],
            [
             0.1111111111111111,
             "#46039f"
            ],
            [
             0.2222222222222222,
             "#7201a8"
            ],
            [
             0.3333333333333333,
             "#9c179e"
            ],
            [
             0.4444444444444444,
             "#bd3786"
            ],
            [
             0.5555555555555556,
             "#d8576b"
            ],
            [
             0.6666666666666666,
             "#ed7953"
            ],
            [
             0.7777777777777778,
             "#fb9f3a"
            ],
            [
             0.8888888888888888,
             "#fdca26"
            ],
            [
             1,
             "#f0f921"
            ]
           ],
           "sequentialminus": [
            [
             0,
             "#0d0887"
            ],
            [
             0.1111111111111111,
             "#46039f"
            ],
            [
             0.2222222222222222,
             "#7201a8"
            ],
            [
             0.3333333333333333,
             "#9c179e"
            ],
            [
             0.4444444444444444,
             "#bd3786"
            ],
            [
             0.5555555555555556,
             "#d8576b"
            ],
            [
             0.6666666666666666,
             "#ed7953"
            ],
            [
             0.7777777777777778,
             "#fb9f3a"
            ],
            [
             0.8888888888888888,
             "#fdca26"
            ],
            [
             1,
             "#f0f921"
            ]
           ]
          },
          "colorway": [
           "#636efa",
           "#EF553B",
           "#00cc96",
           "#ab63fa",
           "#FFA15A",
           "#19d3f3",
           "#FF6692",
           "#B6E880",
           "#FF97FF",
           "#FECB52"
          ],
          "font": {
           "color": "#2a3f5f"
          },
          "geo": {
           "bgcolor": "white",
           "lakecolor": "white",
           "landcolor": "#E5ECF6",
           "showlakes": true,
           "showland": true,
           "subunitcolor": "white"
          },
          "hoverlabel": {
           "align": "left"
          },
          "hovermode": "closest",
          "mapbox": {
           "style": "light"
          },
          "paper_bgcolor": "white",
          "plot_bgcolor": "#E5ECF6",
          "polar": {
           "angularaxis": {
            "gridcolor": "white",
            "linecolor": "white",
            "ticks": ""
           },
           "bgcolor": "#E5ECF6",
           "radialaxis": {
            "gridcolor": "white",
            "linecolor": "white",
            "ticks": ""
           }
          },
          "scene": {
           "xaxis": {
            "backgroundcolor": "#E5ECF6",
            "gridcolor": "white",
            "gridwidth": 2,
            "linecolor": "white",
            "showbackground": true,
            "ticks": "",
            "zerolinecolor": "white"
           },
           "yaxis": {
            "backgroundcolor": "#E5ECF6",
            "gridcolor": "white",
            "gridwidth": 2,
            "linecolor": "white",
            "showbackground": true,
            "ticks": "",
            "zerolinecolor": "white"
           },
           "zaxis": {
            "backgroundcolor": "#E5ECF6",
            "gridcolor": "white",
            "gridwidth": 2,
            "linecolor": "white",
            "showbackground": true,
            "ticks": "",
            "zerolinecolor": "white"
           }
          },
          "shapedefaults": {
           "line": {
            "color": "#2a3f5f"
           }
          },
          "ternary": {
           "aaxis": {
            "gridcolor": "white",
            "linecolor": "white",
            "ticks": ""
           },
           "baxis": {
            "gridcolor": "white",
            "linecolor": "white",
            "ticks": ""
           },
           "bgcolor": "#E5ECF6",
           "caxis": {
            "gridcolor": "white",
            "linecolor": "white",
            "ticks": ""
           }
          },
          "title": {
           "x": 0.05
          },
          "xaxis": {
           "automargin": true,
           "gridcolor": "white",
           "linecolor": "white",
           "ticks": "",
           "title": {
            "standoff": 15
           },
           "zerolinecolor": "white",
           "zerolinewidth": 2
          },
          "yaxis": {
           "automargin": true,
           "gridcolor": "white",
           "linecolor": "white",
           "ticks": "",
           "title": {
            "standoff": 15
           },
           "zerolinecolor": "white",
           "zerolinewidth": 2
          }
         }
        },
        "title": {
         "text": "Schwefel26 dim 10"
        },
        "xaxis": {
         "anchor": "y",
         "domain": [
          0,
          0.45
         ]
        },
        "xaxis2": {
         "anchor": "y2",
         "domain": [
          0.55,
          1
         ]
        },
        "yaxis": {
         "anchor": "x",
         "domain": [
          0,
          1
         ],
         "title": {
          "text": "mean_rel_pred_error"
         }
        },
        "yaxis2": {
         "anchor": "x2",
         "domain": [
          0,
          1
         ]
        }
       }
      }
     },
     "metadata": {},
     "output_type": "display_data"
    }
   ],
   "source": [
    "analysis_regression_performance_plotly(\"Schwefel26_dim_10\",type = \"mean_rel_pred_error\",  means = True)"
   ]
  },
  {
   "cell_type": "code",
   "execution_count": 6,
   "metadata": {},
   "outputs": [
    {
     "data": {
      "application/vnd.plotly.v1+json": {
       "config": {
        "plotlyServerURL": "https://plot.ly"
       },
       "data": [
        {
         "line": {
          "color": "black",
          "dash": "solid",
          "width": 2
         },
         "mode": "lines+markers",
         "name": "empirical mean and std regression",
         "showlegend": true,
         "type": "scatter",
         "x": [
          10,
          15,
          23,
          36,
          56,
          86,
          133,
          205,
          316
         ],
         "xaxis": "x",
         "y": [
          235.91223524881994,
          231.4154767608447,
          222.50408757435102,
          220.14886136949994,
          219.38578668170692,
          219.2693808968031,
          219.76311276128922,
          219.1417646513245,
          218.9484324316644
         ],
         "yaxis": "y"
        },
        {
         "line": {
          "color": "blue",
          "dash": "dash",
          "width": 2
         },
         "mode": "lines+markers",
         "name": "Gaussian Process noise-0.01",
         "showlegend": true,
         "type": "scatter",
         "x": [
          10,
          15,
          23,
          36,
          56,
          86,
          133,
          205,
          316
         ],
         "xaxis": "x",
         "y": [
          439.7172363767286,
          334.00183125606026,
          288.6820949722145,
          247.53665626035772,
          222.55113361524204,
          183.03808280521176,
          129.79533125182652,
          71.71787792966194,
          38.77060690160889
         ],
         "yaxis": "y"
        },
        {
         "line": {
          "color": "green",
          "dash": "solid",
          "width": 2
         },
         "mode": "lines+markers",
         "name": "BOHAMIANN",
         "showlegend": true,
         "type": "scatter",
         "x": [
          10,
          15,
          23,
          36,
          56,
          86,
          133,
          205,
          316
         ],
         "xaxis": "x",
         "y": [
          349.61237483926294,
          366.7591563497681,
          235.68226538853673,
          238.71991305184403,
          220.52666476564332,
          213.07453231911424,
          209.09933832833275,
          206.3938205377548,
          204.85966059095912
         ],
         "yaxis": "y"
        },
        {
         "line": {
          "color": "orange",
          "dash": "solid",
          "width": 2
         },
         "mode": "lines+markers",
         "name": "Gaussian Mixture Regression",
         "showlegend": true,
         "type": "scatter",
         "x": [
          10,
          15,
          23,
          36,
          56,
          86,
          133,
          205,
          316
         ],
         "xaxis": "x",
         "y": [
          287.4698251157842,
          281.05958153620855,
          271.49401029008015,
          255.09057503366932,
          231.68969993982446,
          208.46017958156537,
          179.56736759591018,
          151.35293440194224,
          127.33432765481088
         ],
         "yaxis": "y"
        },
        {
         "line": {
          "color": "red",
          "dash": "dash",
          "width": 2
         },
         "mode": "lines+markers",
         "name": "numpyro neural network2000-2000",
         "showlegend": true,
         "type": "scatter",
         "x": [
          10,
          15,
          23,
          36,
          56,
          86,
          133,
          205,
          316
         ],
         "xaxis": "x",
         "y": [
          238.32417713512075,
          227.1991826837713,
          228.35152088512075,
          227.25982943448153,
          225.64777998490766,
          223.38098283247515,
          221.68347584117544,
          221.6585332697088,
          220.4844443581321
         ],
         "yaxis": "y"
        },
        {
         "line": {
          "color": "blue",
          "dash": "solid",
          "width": 2
         },
         "mode": "lines+markers",
         "name": "Gaussian Process",
         "showlegend": true,
         "type": "scatter",
         "x": [
          10,
          15,
          23,
          36,
          56,
          86,
          133,
          205,
          316
         ],
         "xaxis": "x",
         "y": [
          744.7261032035258,
          697.3385255631874,
          673.5406121094608,
          643.2400508493787,
          628.814539915246,
          576.0892846435675,
          400.20302641687636,
          327.78464807058714,
          204.74611548469747
         ],
         "yaxis": "y"
        },
        {
         "line": {
          "color": "red",
          "dash": "solid",
          "width": 2
         },
         "mode": "lines+markers",
         "name": "numpyro neural network",
         "showlegend": true,
         "type": "scatter",
         "x": [
          10,
          15,
          23,
          36,
          56,
          86,
          133,
          205,
          316
         ],
         "xaxis": "x",
         "y": [
          241.925793191661,
          231.88480808423913,
          227.3138374660326,
          223.64198634935462,
          222.61729696522588,
          221.46828294836956,
          220.87664794921875,
          220.50520855447522,
          219.86064081606656
         ],
         "yaxis": "y"
        },
        {
         "line": {
          "color": "green",
          "dash": "dash",
          "width": 2
         },
         "mode": "lines+markers",
         "name": "BOHAMIANN2000-2000",
         "showlegend": true,
         "type": "scatter",
         "x": [
          10,
          15,
          23,
          36,
          56,
          86,
          133,
          205,
          316
         ],
         "xaxis": "x",
         "y": [
          317.0995098315024,
          329.9007194269161,
          287.6011233927318,
          307.1066853099858,
          253.75023644253864,
          223.0785379152423,
          214.16049502280077,
          207.89536418757191,
          204.917048065513
         ],
         "yaxis": "y"
        },
        {
         "line": {
          "color": "blue",
          "dash": "dashdot",
          "width": 2
         },
         "mode": "lines+markers",
         "name": "Gaussian Process - sklearn",
         "showlegend": true,
         "type": "scatter",
         "x": [
          10,
          15,
          23,
          36,
          56,
          86,
          133,
          205,
          316
         ],
         "xaxis": "x",
         "y": [
          232.26483492590845,
          225.1492107842419,
          208.08581991099734,
          198.04243473379304,
          183.91050540852973,
          160.58393836452868,
          129.82965681544565,
          90.14479804813936,
          54.58315633171393
         ],
         "yaxis": "y"
        },
        {
         "line": {
          "color": "green",
          "dash": "dash",
          "width": 2
         },
         "mode": "lines+markers",
         "name": "BOHAMIANN4000-4000",
         "showlegend": true,
         "type": "scatter",
         "x": [
          10,
          15,
          23,
          36,
          56,
          86,
          133,
          205,
          316
         ],
         "xaxis": "x",
         "y": [
          362.143565631292,
          338.15305962222635,
          288.13282851841535,
          293.43142941149284,
          271.1989084090286,
          229.9258247283142,
          214.19891441322326,
          206.90870246024687,
          205.2709952005328
         ],
         "yaxis": "y"
        },
        {
         "line": {
          "color": "black",
          "dash": "solid",
          "width": 2
         },
         "mode": "lines+markers",
         "name": "empirical mean and std regression",
         "showlegend": false,
         "type": "scatter",
         "x": [
          10,
          15,
          23,
          36,
          56,
          86,
          133,
          205,
          316
         ],
         "xaxis": "x2",
         "y": [
          0.25796612723084855,
          0.26620311501657745,
          0.27619731724406005,
          0.2791050196652808,
          0.275065169291321,
          0.2769534787429444,
          0.27609162217575917,
          0.2788554075392714,
          0.27913368576695347
         ],
         "yaxis": "y2"
        },
        {
         "line": {
          "color": "blue",
          "dash": "dash",
          "width": 2
         },
         "mode": "lines+markers",
         "name": "Gaussian Process noise-0.01",
         "showlegend": false,
         "type": "scatter",
         "x": [
          10,
          15,
          23,
          36,
          56,
          86,
          133,
          205,
          316
         ],
         "xaxis": "x2",
         "y": [
          0.21246293665301916,
          0.20614939837765892,
          0.1965175680158823,
          0.19416355331144422,
          0.21556703952634929,
          0.23435547433456305,
          0.26649260789730084,
          0.29409538413525355,
          0.30916669029965066
         ],
         "yaxis": "y2"
        },
        {
         "line": {
          "color": "green",
          "dash": "solid",
          "width": 2
         },
         "mode": "lines+markers",
         "name": "BOHAMIANN",
         "showlegend": false,
         "type": "scatter",
         "x": [
          10,
          15,
          23,
          36,
          56,
          86,
          133,
          205,
          316
         ],
         "xaxis": "x2",
         "y": [
          0.05763212155248263,
          0.05345789685362008,
          0.06297198803220004,
          0.0343498276294535,
          0.03234835263007613,
          0.04397263574748086,
          0.03471578239602166,
          0.0443188606443887,
          0.040003195129101575
         ],
         "yaxis": "y2"
        },
        {
         "line": {
          "color": "orange",
          "dash": "solid",
          "width": 2
         },
         "mode": "lines+markers",
         "name": "Gaussian Mixture Regression",
         "showlegend": false,
         "type": "scatter",
         "x": [
          10,
          15,
          23,
          36,
          56,
          86,
          133,
          205,
          316
         ],
         "xaxis": "x2",
         "y": [
          0.09042516519660002,
          0.09670052245658912,
          0.10334892378461502,
          0.10939162403304493,
          0.1167968587728212,
          0.12953554456895489,
          0.1411076040530552,
          0.15643709374210713,
          0.16952814739631666
         ],
         "yaxis": "y2"
        },
        {
         "line": {
          "color": "red",
          "dash": "dash",
          "width": 2
         },
         "mode": "lines+markers",
         "name": "numpyro neural network2000-2000",
         "showlegend": false,
         "type": "scatter",
         "x": [
          10,
          15,
          23,
          36,
          56,
          86,
          133,
          205,
          316
         ],
         "xaxis": "x2",
         "y": [
          0.10258241873731112,
          0.08760619035788204,
          0.029505923700106896,
          0.017933741379412647,
          0.036217245621749834,
          0.029550836133277972,
          0.028465649293377707,
          0.026809232999383193,
          0.025015949179177408
         ],
         "yaxis": "y2"
        },
        {
         "line": {
          "color": "blue",
          "dash": "solid",
          "width": 2
         },
         "mode": "lines+markers",
         "name": "Gaussian Process",
         "showlegend": false,
         "type": "scatter",
         "x": [
          10,
          15,
          23,
          36,
          56,
          86,
          133,
          205,
          316
         ],
         "xaxis": "x2",
         "y": [
          0.1186513830100257,
          0.10580285652426426,
          0.10926685335575072,
          0.12736825164422907,
          0.14966668088408225,
          0.1710773137778352,
          0.1876873574434862,
          0.1954443956602903,
          0.230075385609378
         ],
         "yaxis": "y2"
        },
        {
         "line": {
          "color": "red",
          "dash": "solid",
          "width": 2
         },
         "mode": "lines+markers",
         "name": "numpyro neural network",
         "showlegend": false,
         "type": "scatter",
         "x": [
          10,
          15,
          23,
          36,
          56,
          86,
          133,
          205,
          316
         ],
         "xaxis": "x2",
         "y": [
          0.25036941784087263,
          0.2135885543176379,
          0.17895625879078172,
          0.1581985808476908,
          0.16037705423870274,
          0.15380651580844673,
          0.14944608801170733,
          0.14930089890916887,
          0.1469381864099324
         ],
         "yaxis": "y2"
        },
        {
         "line": {
          "color": "green",
          "dash": "dash",
          "width": 2
         },
         "mode": "lines+markers",
         "name": "BOHAMIANN2000-2000",
         "showlegend": false,
         "type": "scatter",
         "x": [
          10,
          15,
          23,
          36,
          56,
          86,
          133,
          205,
          316
         ],
         "xaxis": "x2",
         "y": [
          0.07662008059909985,
          0.05854390753820418,
          0.05861484318069887,
          0.06246110587998923,
          0.06260775342938861,
          0.06660667453342502,
          0.0783530229163517,
          0.09670694826605596,
          0.11035298772441374
         ],
         "yaxis": "y2"
        },
        {
         "line": {
          "color": "blue",
          "dash": "dashdot",
          "width": 2
         },
         "mode": "lines+markers",
         "name": "Gaussian Process - sklearn",
         "showlegend": false,
         "type": "scatter",
         "x": [
          10,
          15,
          23,
          36,
          56,
          86,
          133,
          205,
          316
         ],
         "xaxis": "x2",
         "y": [
          0.24307284953415417,
          0.25793259730902807,
          0.2731189601611414,
          0.27413735215902835,
          0.2759272163721133,
          0.2823939770960571,
          0.28842421125905754,
          0.30381445740241314,
          0.3209805935919984
         ],
         "yaxis": "y2"
        },
        {
         "line": {
          "color": "green",
          "dash": "dash",
          "width": 2
         },
         "mode": "lines+markers",
         "name": "BOHAMIANN4000-4000",
         "showlegend": false,
         "type": "scatter",
         "x": [
          10,
          15,
          23,
          36,
          56,
          86,
          133,
          205,
          316
         ],
         "xaxis": "x2",
         "y": [
          0.042659126912363905,
          0.03330412669766802,
          0.0486808738686291,
          0.040477663111089315,
          0.08554397702044919,
          0.07982698291651885,
          0.08358055582752033,
          0.10041794063455667,
          0.1194255187101136
         ],
         "yaxis": "y2"
        }
       ],
       "layout": {
        "margin": {
         "b": 0,
         "l": 0,
         "r": 0,
         "t": 30
        },
        "template": {
         "data": {
          "bar": [
           {
            "error_x": {
             "color": "#2a3f5f"
            },
            "error_y": {
             "color": "#2a3f5f"
            },
            "marker": {
             "line": {
              "color": "#E5ECF6",
              "width": 0.5
             },
             "pattern": {
              "fillmode": "overlay",
              "size": 10,
              "solidity": 0.2
             }
            },
            "type": "bar"
           }
          ],
          "barpolar": [
           {
            "marker": {
             "line": {
              "color": "#E5ECF6",
              "width": 0.5
             },
             "pattern": {
              "fillmode": "overlay",
              "size": 10,
              "solidity": 0.2
             }
            },
            "type": "barpolar"
           }
          ],
          "carpet": [
           {
            "aaxis": {
             "endlinecolor": "#2a3f5f",
             "gridcolor": "white",
             "linecolor": "white",
             "minorgridcolor": "white",
             "startlinecolor": "#2a3f5f"
            },
            "baxis": {
             "endlinecolor": "#2a3f5f",
             "gridcolor": "white",
             "linecolor": "white",
             "minorgridcolor": "white",
             "startlinecolor": "#2a3f5f"
            },
            "type": "carpet"
           }
          ],
          "choropleth": [
           {
            "colorbar": {
             "outlinewidth": 0,
             "ticks": ""
            },
            "type": "choropleth"
           }
          ],
          "contour": [
           {
            "colorbar": {
             "outlinewidth": 0,
             "ticks": ""
            },
            "colorscale": [
             [
              0,
              "#0d0887"
             ],
             [
              0.1111111111111111,
              "#46039f"
             ],
             [
              0.2222222222222222,
              "#7201a8"
             ],
             [
              0.3333333333333333,
              "#9c179e"
             ],
             [
              0.4444444444444444,
              "#bd3786"
             ],
             [
              0.5555555555555556,
              "#d8576b"
             ],
             [
              0.6666666666666666,
              "#ed7953"
             ],
             [
              0.7777777777777778,
              "#fb9f3a"
             ],
             [
              0.8888888888888888,
              "#fdca26"
             ],
             [
              1,
              "#f0f921"
             ]
            ],
            "type": "contour"
           }
          ],
          "contourcarpet": [
           {
            "colorbar": {
             "outlinewidth": 0,
             "ticks": ""
            },
            "type": "contourcarpet"
           }
          ],
          "heatmap": [
           {
            "colorbar": {
             "outlinewidth": 0,
             "ticks": ""
            },
            "colorscale": [
             [
              0,
              "#0d0887"
             ],
             [
              0.1111111111111111,
              "#46039f"
             ],
             [
              0.2222222222222222,
              "#7201a8"
             ],
             [
              0.3333333333333333,
              "#9c179e"
             ],
             [
              0.4444444444444444,
              "#bd3786"
             ],
             [
              0.5555555555555556,
              "#d8576b"
             ],
             [
              0.6666666666666666,
              "#ed7953"
             ],
             [
              0.7777777777777778,
              "#fb9f3a"
             ],
             [
              0.8888888888888888,
              "#fdca26"
             ],
             [
              1,
              "#f0f921"
             ]
            ],
            "type": "heatmap"
           }
          ],
          "heatmapgl": [
           {
            "colorbar": {
             "outlinewidth": 0,
             "ticks": ""
            },
            "colorscale": [
             [
              0,
              "#0d0887"
             ],
             [
              0.1111111111111111,
              "#46039f"
             ],
             [
              0.2222222222222222,
              "#7201a8"
             ],
             [
              0.3333333333333333,
              "#9c179e"
             ],
             [
              0.4444444444444444,
              "#bd3786"
             ],
             [
              0.5555555555555556,
              "#d8576b"
             ],
             [
              0.6666666666666666,
              "#ed7953"
             ],
             [
              0.7777777777777778,
              "#fb9f3a"
             ],
             [
              0.8888888888888888,
              "#fdca26"
             ],
             [
              1,
              "#f0f921"
             ]
            ],
            "type": "heatmapgl"
           }
          ],
          "histogram": [
           {
            "marker": {
             "pattern": {
              "fillmode": "overlay",
              "size": 10,
              "solidity": 0.2
             }
            },
            "type": "histogram"
           }
          ],
          "histogram2d": [
           {
            "colorbar": {
             "outlinewidth": 0,
             "ticks": ""
            },
            "colorscale": [
             [
              0,
              "#0d0887"
             ],
             [
              0.1111111111111111,
              "#46039f"
             ],
             [
              0.2222222222222222,
              "#7201a8"
             ],
             [
              0.3333333333333333,
              "#9c179e"
             ],
             [
              0.4444444444444444,
              "#bd3786"
             ],
             [
              0.5555555555555556,
              "#d8576b"
             ],
             [
              0.6666666666666666,
              "#ed7953"
             ],
             [
              0.7777777777777778,
              "#fb9f3a"
             ],
             [
              0.8888888888888888,
              "#fdca26"
             ],
             [
              1,
              "#f0f921"
             ]
            ],
            "type": "histogram2d"
           }
          ],
          "histogram2dcontour": [
           {
            "colorbar": {
             "outlinewidth": 0,
             "ticks": ""
            },
            "colorscale": [
             [
              0,
              "#0d0887"
             ],
             [
              0.1111111111111111,
              "#46039f"
             ],
             [
              0.2222222222222222,
              "#7201a8"
             ],
             [
              0.3333333333333333,
              "#9c179e"
             ],
             [
              0.4444444444444444,
              "#bd3786"
             ],
             [
              0.5555555555555556,
              "#d8576b"
             ],
             [
              0.6666666666666666,
              "#ed7953"
             ],
             [
              0.7777777777777778,
              "#fb9f3a"
             ],
             [
              0.8888888888888888,
              "#fdca26"
             ],
             [
              1,
              "#f0f921"
             ]
            ],
            "type": "histogram2dcontour"
           }
          ],
          "mesh3d": [
           {
            "colorbar": {
             "outlinewidth": 0,
             "ticks": ""
            },
            "type": "mesh3d"
           }
          ],
          "parcoords": [
           {
            "line": {
             "colorbar": {
              "outlinewidth": 0,
              "ticks": ""
             }
            },
            "type": "parcoords"
           }
          ],
          "pie": [
           {
            "automargin": true,
            "type": "pie"
           }
          ],
          "scatter": [
           {
            "fillpattern": {
             "fillmode": "overlay",
             "size": 10,
             "solidity": 0.2
            },
            "type": "scatter"
           }
          ],
          "scatter3d": [
           {
            "line": {
             "colorbar": {
              "outlinewidth": 0,
              "ticks": ""
             }
            },
            "marker": {
             "colorbar": {
              "outlinewidth": 0,
              "ticks": ""
             }
            },
            "type": "scatter3d"
           }
          ],
          "scattercarpet": [
           {
            "marker": {
             "colorbar": {
              "outlinewidth": 0,
              "ticks": ""
             }
            },
            "type": "scattercarpet"
           }
          ],
          "scattergeo": [
           {
            "marker": {
             "colorbar": {
              "outlinewidth": 0,
              "ticks": ""
             }
            },
            "type": "scattergeo"
           }
          ],
          "scattergl": [
           {
            "marker": {
             "colorbar": {
              "outlinewidth": 0,
              "ticks": ""
             }
            },
            "type": "scattergl"
           }
          ],
          "scattermapbox": [
           {
            "marker": {
             "colorbar": {
              "outlinewidth": 0,
              "ticks": ""
             }
            },
            "type": "scattermapbox"
           }
          ],
          "scatterpolar": [
           {
            "marker": {
             "colorbar": {
              "outlinewidth": 0,
              "ticks": ""
             }
            },
            "type": "scatterpolar"
           }
          ],
          "scatterpolargl": [
           {
            "marker": {
             "colorbar": {
              "outlinewidth": 0,
              "ticks": ""
             }
            },
            "type": "scatterpolargl"
           }
          ],
          "scatterternary": [
           {
            "marker": {
             "colorbar": {
              "outlinewidth": 0,
              "ticks": ""
             }
            },
            "type": "scatterternary"
           }
          ],
          "surface": [
           {
            "colorbar": {
             "outlinewidth": 0,
             "ticks": ""
            },
            "colorscale": [
             [
              0,
              "#0d0887"
             ],
             [
              0.1111111111111111,
              "#46039f"
             ],
             [
              0.2222222222222222,
              "#7201a8"
             ],
             [
              0.3333333333333333,
              "#9c179e"
             ],
             [
              0.4444444444444444,
              "#bd3786"
             ],
             [
              0.5555555555555556,
              "#d8576b"
             ],
             [
              0.6666666666666666,
              "#ed7953"
             ],
             [
              0.7777777777777778,
              "#fb9f3a"
             ],
             [
              0.8888888888888888,
              "#fdca26"
             ],
             [
              1,
              "#f0f921"
             ]
            ],
            "type": "surface"
           }
          ],
          "table": [
           {
            "cells": {
             "fill": {
              "color": "#EBF0F8"
             },
             "line": {
              "color": "white"
             }
            },
            "header": {
             "fill": {
              "color": "#C8D4E3"
             },
             "line": {
              "color": "white"
             }
            },
            "type": "table"
           }
          ]
         },
         "layout": {
          "annotationdefaults": {
           "arrowcolor": "#2a3f5f",
           "arrowhead": 0,
           "arrowwidth": 1
          },
          "autotypenumbers": "strict",
          "coloraxis": {
           "colorbar": {
            "outlinewidth": 0,
            "ticks": ""
           }
          },
          "colorscale": {
           "diverging": [
            [
             0,
             "#8e0152"
            ],
            [
             0.1,
             "#c51b7d"
            ],
            [
             0.2,
             "#de77ae"
            ],
            [
             0.3,
             "#f1b6da"
            ],
            [
             0.4,
             "#fde0ef"
            ],
            [
             0.5,
             "#f7f7f7"
            ],
            [
             0.6,
             "#e6f5d0"
            ],
            [
             0.7,
             "#b8e186"
            ],
            [
             0.8,
             "#7fbc41"
            ],
            [
             0.9,
             "#4d9221"
            ],
            [
             1,
             "#276419"
            ]
           ],
           "sequential": [
            [
             0,
             "#0d0887"
            ],
            [
             0.1111111111111111,
             "#46039f"
            ],
            [
             0.2222222222222222,
             "#7201a8"
            ],
            [
             0.3333333333333333,
             "#9c179e"
            ],
            [
             0.4444444444444444,
             "#bd3786"
            ],
            [
             0.5555555555555556,
             "#d8576b"
            ],
            [
             0.6666666666666666,
             "#ed7953"
            ],
            [
             0.7777777777777778,
             "#fb9f3a"
            ],
            [
             0.8888888888888888,
             "#fdca26"
            ],
            [
             1,
             "#f0f921"
            ]
           ],
           "sequentialminus": [
            [
             0,
             "#0d0887"
            ],
            [
             0.1111111111111111,
             "#46039f"
            ],
            [
             0.2222222222222222,
             "#7201a8"
            ],
            [
             0.3333333333333333,
             "#9c179e"
            ],
            [
             0.4444444444444444,
             "#bd3786"
            ],
            [
             0.5555555555555556,
             "#d8576b"
            ],
            [
             0.6666666666666666,
             "#ed7953"
            ],
            [
             0.7777777777777778,
             "#fb9f3a"
            ],
            [
             0.8888888888888888,
             "#fdca26"
            ],
            [
             1,
             "#f0f921"
            ]
           ]
          },
          "colorway": [
           "#636efa",
           "#EF553B",
           "#00cc96",
           "#ab63fa",
           "#FFA15A",
           "#19d3f3",
           "#FF6692",
           "#B6E880",
           "#FF97FF",
           "#FECB52"
          ],
          "font": {
           "color": "#2a3f5f"
          },
          "geo": {
           "bgcolor": "white",
           "lakecolor": "white",
           "landcolor": "#E5ECF6",
           "showlakes": true,
           "showland": true,
           "subunitcolor": "white"
          },
          "hoverlabel": {
           "align": "left"
          },
          "hovermode": "closest",
          "mapbox": {
           "style": "light"
          },
          "paper_bgcolor": "white",
          "plot_bgcolor": "#E5ECF6",
          "polar": {
           "angularaxis": {
            "gridcolor": "white",
            "linecolor": "white",
            "ticks": ""
           },
           "bgcolor": "#E5ECF6",
           "radialaxis": {
            "gridcolor": "white",
            "linecolor": "white",
            "ticks": ""
           }
          },
          "scene": {
           "xaxis": {
            "backgroundcolor": "#E5ECF6",
            "gridcolor": "white",
            "gridwidth": 2,
            "linecolor": "white",
            "showbackground": true,
            "ticks": "",
            "zerolinecolor": "white"
           },
           "yaxis": {
            "backgroundcolor": "#E5ECF6",
            "gridcolor": "white",
            "gridwidth": 2,
            "linecolor": "white",
            "showbackground": true,
            "ticks": "",
            "zerolinecolor": "white"
           },
           "zaxis": {
            "backgroundcolor": "#E5ECF6",
            "gridcolor": "white",
            "gridwidth": 2,
            "linecolor": "white",
            "showbackground": true,
            "ticks": "",
            "zerolinecolor": "white"
           }
          },
          "shapedefaults": {
           "line": {
            "color": "#2a3f5f"
           }
          },
          "ternary": {
           "aaxis": {
            "gridcolor": "white",
            "linecolor": "white",
            "ticks": ""
           },
           "baxis": {
            "gridcolor": "white",
            "linecolor": "white",
            "ticks": ""
           },
           "bgcolor": "#E5ECF6",
           "caxis": {
            "gridcolor": "white",
            "linecolor": "white",
            "ticks": ""
           }
          },
          "title": {
           "x": 0.05
          },
          "xaxis": {
           "automargin": true,
           "gridcolor": "white",
           "linecolor": "white",
           "ticks": "",
           "title": {
            "standoff": 15
           },
           "zerolinecolor": "white",
           "zerolinewidth": 2
          },
          "yaxis": {
           "automargin": true,
           "gridcolor": "white",
           "linecolor": "white",
           "ticks": "",
           "title": {
            "standoff": 15
           },
           "zerolinecolor": "white",
           "zerolinewidth": 2
          }
         }
        },
        "title": {
         "text": "Schwefel26 dim 2"
        },
        "xaxis": {
         "anchor": "y",
         "domain": [
          0,
          0.45
         ]
        },
        "xaxis2": {
         "anchor": "y2",
         "domain": [
          0.55,
          1
         ]
        },
        "yaxis": {
         "anchor": "x",
         "domain": [
          0,
          1
         ],
         "title": {
          "text": "mean_rel_pred_error"
         }
        },
        "yaxis2": {
         "anchor": "x2",
         "domain": [
          0,
          1
         ]
        }
       }
      }
     },
     "metadata": {},
     "output_type": "display_data"
    }
   ],
   "source": [
    "analysis_regression_performance_plotly(\"Schwefel26_dim_2\",type = \"mean_rel_pred_error\",  means = True)"
   ]
  },
  {
   "cell_type": "markdown",
   "metadata": {},
   "source": [
    "#### Step"
   ]
  },
  {
   "cell_type": "code",
   "execution_count": 7,
   "metadata": {},
   "outputs": [
    {
     "data": {
      "application/vnd.plotly.v1+json": {
       "config": {
        "plotlyServerURL": "https://plot.ly"
       },
       "data": [
        {
         "line": {
          "color": "black",
          "dash": "solid",
          "width": 2
         },
         "mode": "lines+markers",
         "name": "empirical mean and std regression",
         "showlegend": true,
         "type": "scatter",
         "x": [
          10,
          15,
          23,
          36,
          56,
          86,
          133,
          205,
          316
         ],
         "xaxis": "x",
         "y": [
          3601.5267272727274,
          3608.969368484848,
          3563.3960513833986,
          3537.7852555555555,
          3524.0184305194807,
          3518.217375052854,
          3502.7531320574158,
          3492.834367982262,
          3494.638471116226
         ],
         "yaxis": "y"
        },
        {
         "line": {
          "color": "green",
          "dash": "dash",
          "width": 2
         },
         "mode": "lines+markers",
         "name": "BOHAMIANN2000-2000",
         "showlegend": true,
         "type": "scatter",
         "x": [
          10,
          15,
          23,
          36,
          56,
          86,
          133,
          205,
          316
         ],
         "xaxis": "x",
         "y": [
          3608.656657259225,
          2713.696365601651,
          1430.1737703211488,
          734.6886809151249,
          238.90440901902707,
          148.4380758013523,
          101.52699013264007,
          78.67815121795284,
          59.87051896152043
         ],
         "yaxis": "y"
        },
        {
         "line": {
          "color": "blue",
          "dash": "dashdot",
          "width": 2
         },
         "mode": "lines+markers",
         "name": "Gaussian Process - sklearn",
         "showlegend": true,
         "type": "scatter",
         "x": [
          10,
          15,
          23,
          36,
          56,
          86,
          133,
          205,
          316
         ],
         "xaxis": "x",
         "y": [
          2130.9511650340105,
          1354.1287410841805,
          839.6130313614971,
          438.2884131811149,
          191.49945787295505,
          119.09276580821998,
          89.0843262511633,
          72.7721448939158,
          66.85136964776285
         ],
         "yaxis": "y"
        },
        {
         "line": {
          "color": "orange",
          "dash": "solid",
          "width": 2
         },
         "mode": "lines+markers",
         "name": "Gaussian Mixture Regression",
         "showlegend": true,
         "type": "scatter",
         "x": [
          10,
          15,
          23,
          36,
          56,
          86,
          133,
          205,
          316
         ],
         "xaxis": "x",
         "y": [
          3177.122309847443,
          2563.302557094758,
          2165.7233926203667,
          1756.056654159521,
          1358.8123119612223,
          1115.092560151665,
          892.0490520180877,
          702.659924482427,
          552.5177146649419
         ],
         "yaxis": "y"
        },
        {
         "line": {
          "color": "green",
          "dash": "dash",
          "width": 2
         },
         "mode": "lines+markers",
         "name": "BOHAMIANN4000-4000",
         "showlegend": true,
         "type": "scatter",
         "x": [
          10,
          15,
          23,
          36,
          56,
          86,
          133,
          205,
          316
         ],
         "xaxis": "x",
         "y": [
          3879.774087423604,
          2950.9997848432286,
          1464.5416433466053,
          683.1847537060115,
          273.2808979928192,
          135.3134477150858,
          77.72603395145845,
          61.179005684099366,
          50.2294067470514
         ],
         "yaxis": "y"
        },
        {
         "line": {
          "color": "green",
          "dash": "solid",
          "width": 2
         },
         "mode": "lines+markers",
         "name": "BOHAMIANN",
         "showlegend": true,
         "type": "scatter",
         "x": [
          10,
          15,
          23,
          36,
          56,
          86,
          133,
          205,
          316
         ],
         "xaxis": "x",
         "y": [
          3608.36705926469,
          2724.5745638007834,
          2594.0354710112238,
          1480.4293955974258,
          1258.0387481056887,
          1317.9869152933827,
          1146.4416315003505,
          1217.9868575254982,
          1107.0009649832066
         ],
         "yaxis": "y"
        },
        {
         "line": {
          "color": "red",
          "dash": "solid",
          "width": 2
         },
         "mode": "lines+markers",
         "name": "numpyro neural network",
         "showlegend": true,
         "type": "scatter",
         "x": [
          10,
          15,
          23,
          36,
          56,
          86,
          133,
          205,
          316
         ],
         "xaxis": "x",
         "y": [
          3689.363671875,
          3725.744091796875,
          3546.0721435546875,
          3548.97734375,
          3547.2838623046873,
          3533.3992919921875,
          3506.146484375,
          3498.637158203125,
          3499.133447265625
         ],
         "yaxis": "y"
        },
        {
         "line": {
          "color": "black",
          "dash": "solid",
          "width": 2
         },
         "mode": "lines+markers",
         "name": "empirical mean and std regression",
         "showlegend": false,
         "type": "scatter",
         "x": [
          10,
          15,
          23,
          36,
          56,
          86,
          133,
          205,
          316
         ],
         "xaxis": "x2",
         "y": [
          0.25891541657638206,
          0.26031488715017315,
          0.2624863839025583,
          0.2673587695690157,
          0.27427892173697294,
          0.2776301086042539,
          0.278096540249138,
          0.2745911787112305,
          0.2750189191609561
         ],
         "yaxis": "y2"
        },
        {
         "line": {
          "color": "green",
          "dash": "dash",
          "width": 2
         },
         "mode": "lines+markers",
         "name": "BOHAMIANN2000-2000",
         "showlegend": false,
         "type": "scatter",
         "x": [
          10,
          15,
          23,
          36,
          56,
          86,
          133,
          205,
          316
         ],
         "xaxis": "x2",
         "y": [
          0.1009441531459555,
          0.09527144547426598,
          0.12456088018418825,
          0.15940654699444656,
          0.2661142713622518,
          0.33273326662420566,
          0.3553589535372848,
          0.3720936195412138,
          0.3771639601816602
         ],
         "yaxis": "y2"
        },
        {
         "line": {
          "color": "blue",
          "dash": "dashdot",
          "width": 2
         },
         "mode": "lines+markers",
         "name": "Gaussian Process - sklearn",
         "showlegend": false,
         "type": "scatter",
         "x": [
          10,
          15,
          23,
          36,
          56,
          86,
          133,
          205,
          316
         ],
         "xaxis": "x2",
         "y": [
          0.27153591336476735,
          0.29410145934650667,
          0.2994163278329786,
          0.30873976356755467,
          0.32227196265794456,
          0.30977456578900703,
          0.2995694871349858,
          0.2862951176379879,
          0.28078301622103075
         ],
         "yaxis": "y2"
        },
        {
         "line": {
          "color": "orange",
          "dash": "solid",
          "width": 2
         },
         "mode": "lines+markers",
         "name": "Gaussian Mixture Regression",
         "showlegend": false,
         "type": "scatter",
         "x": [
          10,
          15,
          23,
          36,
          56,
          86,
          133,
          205,
          316
         ],
         "xaxis": "x2",
         "y": [
          0.13638482270838412,
          0.16314327839942983,
          0.1806805819232135,
          0.2109297148709771,
          0.24701864555845718,
          0.27272574027618146,
          0.29578805568151323,
          0.3119620562578108,
          0.32413145768937107
         ],
         "yaxis": "y2"
        },
        {
         "line": {
          "color": "green",
          "dash": "dash",
          "width": 2
         },
         "mode": "lines+markers",
         "name": "BOHAMIANN4000-4000",
         "showlegend": false,
         "type": "scatter",
         "x": [
          10,
          15,
          23,
          36,
          56,
          86,
          133,
          205,
          316
         ],
         "xaxis": "x2",
         "y": [
          0.05637476427506196,
          0.07983844595964121,
          0.07187393099111898,
          0.08792987917136448,
          0.19289250922081488,
          0.3004567848284559,
          0.3336653299872893,
          0.3598912055651291,
          0.36482620261001386
         ],
         "yaxis": "y2"
        },
        {
         "line": {
          "color": "green",
          "dash": "solid",
          "width": 2
         },
         "mode": "lines+markers",
         "name": "BOHAMIANN",
         "showlegend": false,
         "type": "scatter",
         "x": [
          10,
          15,
          23,
          36,
          56,
          86,
          133,
          205,
          316
         ],
         "xaxis": "x2",
         "y": [
          0.08600813037711062,
          0.08810391121161544,
          0.09666825997082015,
          0.09485368080661555,
          0.10776389463698097,
          0.14227264824028502,
          0.1339408603128526,
          0.15623300531473897,
          0.16741786047105905
         ],
         "yaxis": "y2"
        },
        {
         "line": {
          "color": "red",
          "dash": "solid",
          "width": 2
         },
         "mode": "lines+markers",
         "name": "numpyro neural network",
         "showlegend": false,
         "type": "scatter",
         "x": [
          10,
          15,
          23,
          36,
          56,
          86,
          133,
          205,
          316
         ],
         "xaxis": "x2",
         "y": [
          0.3831308402160844,
          0.36459318719103473,
          0.3435034051540848,
          0.31582558554735385,
          0.2993709638010923,
          0.29165909297330395,
          0.2852262701849621,
          0.27794608958072375,
          0.27535398003463885
         ],
         "yaxis": "y2"
        }
       ],
       "layout": {
        "margin": {
         "b": 0,
         "l": 0,
         "r": 0,
         "t": 30
        },
        "template": {
         "data": {
          "bar": [
           {
            "error_x": {
             "color": "#2a3f5f"
            },
            "error_y": {
             "color": "#2a3f5f"
            },
            "marker": {
             "line": {
              "color": "#E5ECF6",
              "width": 0.5
             },
             "pattern": {
              "fillmode": "overlay",
              "size": 10,
              "solidity": 0.2
             }
            },
            "type": "bar"
           }
          ],
          "barpolar": [
           {
            "marker": {
             "line": {
              "color": "#E5ECF6",
              "width": 0.5
             },
             "pattern": {
              "fillmode": "overlay",
              "size": 10,
              "solidity": 0.2
             }
            },
            "type": "barpolar"
           }
          ],
          "carpet": [
           {
            "aaxis": {
             "endlinecolor": "#2a3f5f",
             "gridcolor": "white",
             "linecolor": "white",
             "minorgridcolor": "white",
             "startlinecolor": "#2a3f5f"
            },
            "baxis": {
             "endlinecolor": "#2a3f5f",
             "gridcolor": "white",
             "linecolor": "white",
             "minorgridcolor": "white",
             "startlinecolor": "#2a3f5f"
            },
            "type": "carpet"
           }
          ],
          "choropleth": [
           {
            "colorbar": {
             "outlinewidth": 0,
             "ticks": ""
            },
            "type": "choropleth"
           }
          ],
          "contour": [
           {
            "colorbar": {
             "outlinewidth": 0,
             "ticks": ""
            },
            "colorscale": [
             [
              0,
              "#0d0887"
             ],
             [
              0.1111111111111111,
              "#46039f"
             ],
             [
              0.2222222222222222,
              "#7201a8"
             ],
             [
              0.3333333333333333,
              "#9c179e"
             ],
             [
              0.4444444444444444,
              "#bd3786"
             ],
             [
              0.5555555555555556,
              "#d8576b"
             ],
             [
              0.6666666666666666,
              "#ed7953"
             ],
             [
              0.7777777777777778,
              "#fb9f3a"
             ],
             [
              0.8888888888888888,
              "#fdca26"
             ],
             [
              1,
              "#f0f921"
             ]
            ],
            "type": "contour"
           }
          ],
          "contourcarpet": [
           {
            "colorbar": {
             "outlinewidth": 0,
             "ticks": ""
            },
            "type": "contourcarpet"
           }
          ],
          "heatmap": [
           {
            "colorbar": {
             "outlinewidth": 0,
             "ticks": ""
            },
            "colorscale": [
             [
              0,
              "#0d0887"
             ],
             [
              0.1111111111111111,
              "#46039f"
             ],
             [
              0.2222222222222222,
              "#7201a8"
             ],
             [
              0.3333333333333333,
              "#9c179e"
             ],
             [
              0.4444444444444444,
              "#bd3786"
             ],
             [
              0.5555555555555556,
              "#d8576b"
             ],
             [
              0.6666666666666666,
              "#ed7953"
             ],
             [
              0.7777777777777778,
              "#fb9f3a"
             ],
             [
              0.8888888888888888,
              "#fdca26"
             ],
             [
              1,
              "#f0f921"
             ]
            ],
            "type": "heatmap"
           }
          ],
          "heatmapgl": [
           {
            "colorbar": {
             "outlinewidth": 0,
             "ticks": ""
            },
            "colorscale": [
             [
              0,
              "#0d0887"
             ],
             [
              0.1111111111111111,
              "#46039f"
             ],
             [
              0.2222222222222222,
              "#7201a8"
             ],
             [
              0.3333333333333333,
              "#9c179e"
             ],
             [
              0.4444444444444444,
              "#bd3786"
             ],
             [
              0.5555555555555556,
              "#d8576b"
             ],
             [
              0.6666666666666666,
              "#ed7953"
             ],
             [
              0.7777777777777778,
              "#fb9f3a"
             ],
             [
              0.8888888888888888,
              "#fdca26"
             ],
             [
              1,
              "#f0f921"
             ]
            ],
            "type": "heatmapgl"
           }
          ],
          "histogram": [
           {
            "marker": {
             "pattern": {
              "fillmode": "overlay",
              "size": 10,
              "solidity": 0.2
             }
            },
            "type": "histogram"
           }
          ],
          "histogram2d": [
           {
            "colorbar": {
             "outlinewidth": 0,
             "ticks": ""
            },
            "colorscale": [
             [
              0,
              "#0d0887"
             ],
             [
              0.1111111111111111,
              "#46039f"
             ],
             [
              0.2222222222222222,
              "#7201a8"
             ],
             [
              0.3333333333333333,
              "#9c179e"
             ],
             [
              0.4444444444444444,
              "#bd3786"
             ],
             [
              0.5555555555555556,
              "#d8576b"
             ],
             [
              0.6666666666666666,
              "#ed7953"
             ],
             [
              0.7777777777777778,
              "#fb9f3a"
             ],
             [
              0.8888888888888888,
              "#fdca26"
             ],
             [
              1,
              "#f0f921"
             ]
            ],
            "type": "histogram2d"
           }
          ],
          "histogram2dcontour": [
           {
            "colorbar": {
             "outlinewidth": 0,
             "ticks": ""
            },
            "colorscale": [
             [
              0,
              "#0d0887"
             ],
             [
              0.1111111111111111,
              "#46039f"
             ],
             [
              0.2222222222222222,
              "#7201a8"
             ],
             [
              0.3333333333333333,
              "#9c179e"
             ],
             [
              0.4444444444444444,
              "#bd3786"
             ],
             [
              0.5555555555555556,
              "#d8576b"
             ],
             [
              0.6666666666666666,
              "#ed7953"
             ],
             [
              0.7777777777777778,
              "#fb9f3a"
             ],
             [
              0.8888888888888888,
              "#fdca26"
             ],
             [
              1,
              "#f0f921"
             ]
            ],
            "type": "histogram2dcontour"
           }
          ],
          "mesh3d": [
           {
            "colorbar": {
             "outlinewidth": 0,
             "ticks": ""
            },
            "type": "mesh3d"
           }
          ],
          "parcoords": [
           {
            "line": {
             "colorbar": {
              "outlinewidth": 0,
              "ticks": ""
             }
            },
            "type": "parcoords"
           }
          ],
          "pie": [
           {
            "automargin": true,
            "type": "pie"
           }
          ],
          "scatter": [
           {
            "fillpattern": {
             "fillmode": "overlay",
             "size": 10,
             "solidity": 0.2
            },
            "type": "scatter"
           }
          ],
          "scatter3d": [
           {
            "line": {
             "colorbar": {
              "outlinewidth": 0,
              "ticks": ""
             }
            },
            "marker": {
             "colorbar": {
              "outlinewidth": 0,
              "ticks": ""
             }
            },
            "type": "scatter3d"
           }
          ],
          "scattercarpet": [
           {
            "marker": {
             "colorbar": {
              "outlinewidth": 0,
              "ticks": ""
             }
            },
            "type": "scattercarpet"
           }
          ],
          "scattergeo": [
           {
            "marker": {
             "colorbar": {
              "outlinewidth": 0,
              "ticks": ""
             }
            },
            "type": "scattergeo"
           }
          ],
          "scattergl": [
           {
            "marker": {
             "colorbar": {
              "outlinewidth": 0,
              "ticks": ""
             }
            },
            "type": "scattergl"
           }
          ],
          "scattermapbox": [
           {
            "marker": {
             "colorbar": {
              "outlinewidth": 0,
              "ticks": ""
             }
            },
            "type": "scattermapbox"
           }
          ],
          "scatterpolar": [
           {
            "marker": {
             "colorbar": {
              "outlinewidth": 0,
              "ticks": ""
             }
            },
            "type": "scatterpolar"
           }
          ],
          "scatterpolargl": [
           {
            "marker": {
             "colorbar": {
              "outlinewidth": 0,
              "ticks": ""
             }
            },
            "type": "scatterpolargl"
           }
          ],
          "scatterternary": [
           {
            "marker": {
             "colorbar": {
              "outlinewidth": 0,
              "ticks": ""
             }
            },
            "type": "scatterternary"
           }
          ],
          "surface": [
           {
            "colorbar": {
             "outlinewidth": 0,
             "ticks": ""
            },
            "colorscale": [
             [
              0,
              "#0d0887"
             ],
             [
              0.1111111111111111,
              "#46039f"
             ],
             [
              0.2222222222222222,
              "#7201a8"
             ],
             [
              0.3333333333333333,
              "#9c179e"
             ],
             [
              0.4444444444444444,
              "#bd3786"
             ],
             [
              0.5555555555555556,
              "#d8576b"
             ],
             [
              0.6666666666666666,
              "#ed7953"
             ],
             [
              0.7777777777777778,
              "#fb9f3a"
             ],
             [
              0.8888888888888888,
              "#fdca26"
             ],
             [
              1,
              "#f0f921"
             ]
            ],
            "type": "surface"
           }
          ],
          "table": [
           {
            "cells": {
             "fill": {
              "color": "#EBF0F8"
             },
             "line": {
              "color": "white"
             }
            },
            "header": {
             "fill": {
              "color": "#C8D4E3"
             },
             "line": {
              "color": "white"
             }
            },
            "type": "table"
           }
          ]
         },
         "layout": {
          "annotationdefaults": {
           "arrowcolor": "#2a3f5f",
           "arrowhead": 0,
           "arrowwidth": 1
          },
          "autotypenumbers": "strict",
          "coloraxis": {
           "colorbar": {
            "outlinewidth": 0,
            "ticks": ""
           }
          },
          "colorscale": {
           "diverging": [
            [
             0,
             "#8e0152"
            ],
            [
             0.1,
             "#c51b7d"
            ],
            [
             0.2,
             "#de77ae"
            ],
            [
             0.3,
             "#f1b6da"
            ],
            [
             0.4,
             "#fde0ef"
            ],
            [
             0.5,
             "#f7f7f7"
            ],
            [
             0.6,
             "#e6f5d0"
            ],
            [
             0.7,
             "#b8e186"
            ],
            [
             0.8,
             "#7fbc41"
            ],
            [
             0.9,
             "#4d9221"
            ],
            [
             1,
             "#276419"
            ]
           ],
           "sequential": [
            [
             0,
             "#0d0887"
            ],
            [
             0.1111111111111111,
             "#46039f"
            ],
            [
             0.2222222222222222,
             "#7201a8"
            ],
            [
             0.3333333333333333,
             "#9c179e"
            ],
            [
             0.4444444444444444,
             "#bd3786"
            ],
            [
             0.5555555555555556,
             "#d8576b"
            ],
            [
             0.6666666666666666,
             "#ed7953"
            ],
            [
             0.7777777777777778,
             "#fb9f3a"
            ],
            [
             0.8888888888888888,
             "#fdca26"
            ],
            [
             1,
             "#f0f921"
            ]
           ],
           "sequentialminus": [
            [
             0,
             "#0d0887"
            ],
            [
             0.1111111111111111,
             "#46039f"
            ],
            [
             0.2222222222222222,
             "#7201a8"
            ],
            [
             0.3333333333333333,
             "#9c179e"
            ],
            [
             0.4444444444444444,
             "#bd3786"
            ],
            [
             0.5555555555555556,
             "#d8576b"
            ],
            [
             0.6666666666666666,
             "#ed7953"
            ],
            [
             0.7777777777777778,
             "#fb9f3a"
            ],
            [
             0.8888888888888888,
             "#fdca26"
            ],
            [
             1,
             "#f0f921"
            ]
           ]
          },
          "colorway": [
           "#636efa",
           "#EF553B",
           "#00cc96",
           "#ab63fa",
           "#FFA15A",
           "#19d3f3",
           "#FF6692",
           "#B6E880",
           "#FF97FF",
           "#FECB52"
          ],
          "font": {
           "color": "#2a3f5f"
          },
          "geo": {
           "bgcolor": "white",
           "lakecolor": "white",
           "landcolor": "#E5ECF6",
           "showlakes": true,
           "showland": true,
           "subunitcolor": "white"
          },
          "hoverlabel": {
           "align": "left"
          },
          "hovermode": "closest",
          "mapbox": {
           "style": "light"
          },
          "paper_bgcolor": "white",
          "plot_bgcolor": "#E5ECF6",
          "polar": {
           "angularaxis": {
            "gridcolor": "white",
            "linecolor": "white",
            "ticks": ""
           },
           "bgcolor": "#E5ECF6",
           "radialaxis": {
            "gridcolor": "white",
            "linecolor": "white",
            "ticks": ""
           }
          },
          "scene": {
           "xaxis": {
            "backgroundcolor": "#E5ECF6",
            "gridcolor": "white",
            "gridwidth": 2,
            "linecolor": "white",
            "showbackground": true,
            "ticks": "",
            "zerolinecolor": "white"
           },
           "yaxis": {
            "backgroundcolor": "#E5ECF6",
            "gridcolor": "white",
            "gridwidth": 2,
            "linecolor": "white",
            "showbackground": true,
            "ticks": "",
            "zerolinecolor": "white"
           },
           "zaxis": {
            "backgroundcolor": "#E5ECF6",
            "gridcolor": "white",
            "gridwidth": 2,
            "linecolor": "white",
            "showbackground": true,
            "ticks": "",
            "zerolinecolor": "white"
           }
          },
          "shapedefaults": {
           "line": {
            "color": "#2a3f5f"
           }
          },
          "ternary": {
           "aaxis": {
            "gridcolor": "white",
            "linecolor": "white",
            "ticks": ""
           },
           "baxis": {
            "gridcolor": "white",
            "linecolor": "white",
            "ticks": ""
           },
           "bgcolor": "#E5ECF6",
           "caxis": {
            "gridcolor": "white",
            "linecolor": "white",
            "ticks": ""
           }
          },
          "title": {
           "x": 0.05
          },
          "xaxis": {
           "automargin": true,
           "gridcolor": "white",
           "linecolor": "white",
           "ticks": "",
           "title": {
            "standoff": 15
           },
           "zerolinecolor": "white",
           "zerolinewidth": 2
          },
          "yaxis": {
           "automargin": true,
           "gridcolor": "white",
           "linecolor": "white",
           "ticks": "",
           "title": {
            "standoff": 15
           },
           "zerolinecolor": "white",
           "zerolinewidth": 2
          }
         }
        },
        "title": {
         "text": "Step2 dim 2"
        },
        "xaxis": {
         "anchor": "y",
         "domain": [
          0,
          0.45
         ]
        },
        "xaxis2": {
         "anchor": "y2",
         "domain": [
          0.55,
          1
         ]
        },
        "yaxis": {
         "anchor": "x",
         "domain": [
          0,
          1
         ],
         "title": {
          "text": "mean_rel_pred_error"
         }
        },
        "yaxis2": {
         "anchor": "x2",
         "domain": [
          0,
          1
         ]
        }
       }
      }
     },
     "metadata": {},
     "output_type": "display_data"
    }
   ],
   "source": [
    "analysis_regression_performance_plotly(\"Step2_dim_2\",type = \"mean_rel_pred_error\",  means = True)"
   ]
  },
  {
   "cell_type": "code",
   "execution_count": 8,
   "metadata": {},
   "outputs": [
    {
     "data": {
      "application/vnd.plotly.v1+json": {
       "config": {
        "plotlyServerURL": "https://plot.ly"
       },
       "data": [
        {
         "line": {
          "color": "black",
          "dash": "solid",
          "width": 2
         },
         "mode": "lines+markers",
         "name": "empirical mean and std regression",
         "showlegend": true,
         "type": "scatter",
         "x": [
          10,
          15,
          23,
          36,
          56,
          86,
          133,
          205,
          316
         ],
         "xaxis": "x",
         "y": [
          7723.4703549999995,
          7788.655711666668,
          7720.570878260869,
          7650.561511111111,
          7625.563598214285,
          7597.058854360467,
          7580.148009210527,
          7572.492084634146,
          7574.040450791139
         ],
         "yaxis": "y"
        },
        {
         "line": {
          "color": "red",
          "dash": "dash",
          "width": 2
         },
         "mode": "lines+markers",
         "name": "numpyro neural network2000-2000",
         "showlegend": true,
         "type": "scatter",
         "x": [
          10,
          12,
          15,
          19,
          23,
          25,
          31,
          36,
          39,
          50,
          56,
          63,
          86,
          133,
          205,
          316
         ],
         "xaxis": "x",
         "y": [
          8109.025035511364,
          7807.014229910715,
          7742.123401988636,
          7890.66845703125,
          7836.63671875,
          7916.417619977678,
          8864.601841517857,
          7708.299072265625,
          7746.738839285715,
          7988.379673549107,
          8005.1177978515625,
          7911.0283203125,
          7630.960205078125,
          7554.12060546875,
          7551.4871826171875,
          7520.2587890625
         ],
         "yaxis": "y"
        },
        {
         "line": {
          "color": "blue",
          "dash": "solid",
          "width": 2
         },
         "mode": "lines+markers",
         "name": "Gaussian Process",
         "showlegend": true,
         "type": "scatter",
         "x": [
          10,
          15,
          23,
          36,
          56,
          86,
          133,
          205,
          316
         ],
         "xaxis": "x",
         "y": [
          32097.155203158323,
          30698.779877803103,
          31159.281299836905,
          30413.1514527288,
          30076.708646785115,
          30815.968323982066,
          31113.424907976085,
          30880.29449846676,
          37191.426843146866
         ],
         "yaxis": "y"
        },
        {
         "line": {
          "color": "green",
          "dash": "dash",
          "width": 2
         },
         "mode": "lines+markers",
         "name": "BOHAMIANN2000-2000",
         "showlegend": true,
         "type": "scatter",
         "x": [
          10,
          12,
          15,
          19,
          23,
          25,
          31,
          36,
          39,
          50,
          56,
          63,
          86,
          133,
          205,
          316
         ],
         "xaxis": "x",
         "y": [
          11275.516801569205,
          10187.19966521212,
          10881.324867906504,
          9481.438762325486,
          9556.654616651489,
          8921.337772969358,
          9197.838866911816,
          9370.265664291835,
          9124.061781239305,
          8697.083111285534,
          9007.254070788702,
          8770.241799588799,
          8873.11588708759,
          8671.629752483588,
          8326.775995164124,
          7528.122971059252
         ],
         "yaxis": "y"
        },
        {
         "line": {
          "color": "orange",
          "dash": "solid",
          "width": 2
         },
         "mode": "lines+markers",
         "name": "Gaussian Mixture Regression",
         "showlegend": true,
         "type": "scatter",
         "x": [
          10,
          12,
          15,
          19,
          23,
          25,
          31,
          36,
          39,
          50,
          56,
          63,
          86,
          133,
          205,
          316
         ],
         "xaxis": "x",
         "y": [
          10143.771305856353,
          9556.062430493632,
          10444.220703882012,
          9626.566244152044,
          10558.48594762878,
          9539.347614152153,
          9639.155233369418,
          10201.926792617996,
          9782.777195919984,
          9621.98111466277,
          10005.72695646157,
          9577.610174667714,
          9789.017354011818,
          9487.95470528247,
          9165.472743942706,
          8888.019868085306
         ],
         "yaxis": "y"
        },
        {
         "line": {
          "color": "green",
          "dash": "solid",
          "width": 2
         },
         "mode": "lines+markers",
         "name": "BOHAMIANN",
         "showlegend": true,
         "type": "scatter",
         "x": [
          10,
          12,
          15,
          19,
          23,
          25,
          31,
          36,
          39,
          50,
          56,
          63,
          86,
          133,
          205,
          316
         ],
         "xaxis": "x",
         "y": [
          11367.822475790572,
          9898.919498128755,
          10996.825531678383,
          9712.069299207633,
          10251.812382792044,
          9489.563554271652,
          9708.803659036765,
          9829.945496960549,
          9270.459657708796,
          8947.40483191853,
          9301.708412828473,
          8722.501597872824,
          8832.132557818531,
          8461.42258153057,
          7936.427512438157,
          7664.195195095692
         ],
         "yaxis": "y"
        },
        {
         "line": {
          "color": "red",
          "dash": "solid",
          "width": 2
         },
         "mode": "lines+markers",
         "name": "numpyro neural network",
         "showlegend": true,
         "type": "scatter",
         "x": [
          10,
          12,
          15,
          19,
          23,
          25,
          31,
          36,
          39,
          50,
          56,
          63,
          86,
          133,
          205,
          316
         ],
         "xaxis": "x",
         "y": [
          8381.946157602164,
          7797.854701450893,
          8186.340857872596,
          7836.197823660715,
          8275.287828947368,
          7891.203194754465,
          8864.69935825893,
          7933.050755550987,
          7777.988351004465,
          7988.3935546875,
          7725.822496916118,
          7911.034807477678,
          7625.8408203125,
          7585.457853618421,
          7582.077276932566,
          7573.929636101973
         ],
         "yaxis": "y"
        },
        {
         "line": {
          "color": "blue",
          "dash": "dashdot",
          "width": 2
         },
         "mode": "lines+markers",
         "name": "Gaussian Process - sklearn",
         "showlegend": true,
         "type": "scatter",
         "x": [
          10,
          12,
          15,
          19,
          23,
          25,
          31,
          36,
          39,
          50,
          56,
          63,
          86,
          133,
          205,
          316
         ],
         "xaxis": "x",
         "y": [
          7728.767130778633,
          7715.419107179395,
          7615.3581022652415,
          7483.869081169338,
          7383.994246966837,
          7354.558785816766,
          7254.883143306731,
          7095.896776876224,
          7156.362834200897,
          6947.385361093127,
          6727.095744320928,
          6611.381003079063,
          5631.911239415705,
          3810.6945069485187,
          2336.3301982795942,
          1535.5775656326982
         ],
         "yaxis": "y"
        },
        {
         "line": {
          "color": "green",
          "dash": "dash",
          "width": 2
         },
         "mode": "lines+markers",
         "name": "BOHAMIANN4000-4000",
         "showlegend": true,
         "type": "scatter",
         "x": [
          10,
          15,
          23,
          36,
          56,
          86,
          133,
          205,
          316
         ],
         "xaxis": "x",
         "y": [
          12443.771209197675,
          11417.235012140685,
          9644.974039509916,
          9213.195960461597,
          8841.891074061406,
          8607.615136519373,
          8521.203847186149,
          8181.601807805867,
          7455.656235274639
         ],
         "yaxis": "y"
        },
        {
         "line": {
          "color": "black",
          "dash": "solid",
          "width": 2
         },
         "mode": "lines+markers",
         "name": "empirical mean and std regression",
         "showlegend": false,
         "type": "scatter",
         "x": [
          10,
          15,
          23,
          36,
          56,
          86,
          133,
          205,
          316
         ],
         "xaxis": "x2",
         "y": [
          0.27034916287471883,
          0.2695148580294805,
          0.27875467675260596,
          0.27939571092094995,
          0.27739514057871617,
          0.28024273005847433,
          0.2808230859109458,
          0.2799055476626157,
          0.2806368648897456
         ],
         "yaxis": "y2"
        },
        {
         "line": {
          "color": "red",
          "dash": "dash",
          "width": 2
         },
         "mode": "lines+markers",
         "name": "numpyro neural network2000-2000",
         "showlegend": false,
         "type": "scatter",
         "x": [
          10,
          12,
          15,
          19,
          23,
          25,
          31,
          36,
          39,
          50,
          56,
          63,
          86,
          133,
          205,
          316
         ],
         "xaxis": "x2",
         "y": [
          0.360514585421342,
          0.34385664059228127,
          0.3367870928904017,
          0.2794349506171067,
          0.14191518804372838,
          0.07293880565617118,
          0.21698679736679297,
          0.044821740593838526,
          0.036313315596375566,
          0.13185390807202818,
          0.15216470136107813,
          0.11223602899858112,
          0.07119714553542084,
          0.02218889847146568,
          0.016150248516584965,
          0.00941351505091206
         ],
         "yaxis": "y2"
        },
        {
         "line": {
          "color": "blue",
          "dash": "solid",
          "width": 2
         },
         "mode": "lines+markers",
         "name": "Gaussian Process",
         "showlegend": false,
         "type": "scatter",
         "x": [
          10,
          15,
          23,
          36,
          56,
          86,
          133,
          205,
          316
         ],
         "xaxis": "x2",
         "y": [
          0.000033989238870750826,
          0.00010962642726092214,
          0.00042467178274237406,
          0.0018944232156259799,
          0.004999369420224925,
          0.0077396507717204955,
          0.013109099567884721,
          0.023139390754009774,
          0.033125801965374735
         ],
         "yaxis": "y2"
        },
        {
         "line": {
          "color": "green",
          "dash": "dash",
          "width": 2
         },
         "mode": "lines+markers",
         "name": "BOHAMIANN2000-2000",
         "showlegend": false,
         "type": "scatter",
         "x": [
          10,
          12,
          15,
          19,
          23,
          25,
          31,
          36,
          39,
          50,
          56,
          63,
          86,
          133,
          205,
          316
         ],
         "xaxis": "x2",
         "y": [
          0.10993452141949894,
          0.0953972632342459,
          0.10456955117440249,
          0.09538070402069918,
          0.034154642770799055,
          0.030799194645297352,
          0.03411986405236825,
          0.040820983931060394,
          0.03474858478214221,
          0.02851436511939578,
          0.03257704982551656,
          0.02672746697068659,
          0.029324348149284113,
          0.027361822335136548,
          0.03608818483076627,
          0.046528853153500735
         ],
         "yaxis": "y2"
        },
        {
         "line": {
          "color": "orange",
          "dash": "solid",
          "width": 2
         },
         "mode": "lines+markers",
         "name": "Gaussian Mixture Regression",
         "showlegend": false,
         "type": "scatter",
         "x": [
          10,
          12,
          15,
          19,
          23,
          25,
          31,
          36,
          39,
          50,
          56,
          63,
          86,
          133,
          205,
          316
         ],
         "xaxis": "x2",
         "y": [
          0.08419106835526306,
          0.07905159592235814,
          0.08402608309302723,
          0.08267926811845892,
          0.08897937226817955,
          0.08439619963608543,
          0.086145017418683,
          0.09198615176259207,
          0.08674751302769088,
          0.08878509756561663,
          0.09205779448119662,
          0.09172155886324494,
          0.09517968775785289,
          0.09832283228198473,
          0.10131684276138656,
          0.10428848082646539
         ],
         "yaxis": "y2"
        },
        {
         "line": {
          "color": "green",
          "dash": "solid",
          "width": 2
         },
         "mode": "lines+markers",
         "name": "BOHAMIANN",
         "showlegend": false,
         "type": "scatter",
         "x": [
          10,
          12,
          15,
          19,
          23,
          25,
          31,
          36,
          39,
          50,
          56,
          63,
          86,
          133,
          205,
          316
         ],
         "xaxis": "x2",
         "y": [
          0.10749030281918782,
          0.10287055038294447,
          0.10198191264467775,
          0.09674362006077265,
          0.025388816019282636,
          0.02751669832059178,
          0.03708990752568373,
          0.04210794569999636,
          0.03911196577513727,
          0.021964813886497996,
          0.024187379263007427,
          0.03701892324980465,
          0.03697237909351467,
          0.042141213199331715,
          0.05091189141455745,
          0.04955409572198027
         ],
         "yaxis": "y2"
        },
        {
         "line": {
          "color": "red",
          "dash": "solid",
          "width": 2
         },
         "mode": "lines+markers",
         "name": "numpyro neural network",
         "showlegend": false,
         "type": "scatter",
         "x": [
          10,
          12,
          15,
          19,
          23,
          25,
          31,
          36,
          39,
          50,
          56,
          63,
          86,
          133,
          205,
          316
         ],
         "xaxis": "x2",
         "y": [
          0.36658593470965173,
          0.2841570833085092,
          0.3394522413213003,
          0.21079817268017162,
          0.3469987269353287,
          0.13533279442392857,
          0.2169871802478536,
          0.32864118069249154,
          0.0645690828302157,
          0.131856609666292,
          0.2703235806000045,
          0.11223674333131557,
          0.2490161446883965,
          0.24235080194464975,
          0.23437257683689217,
          0.22960559981736428
         ],
         "yaxis": "y2"
        },
        {
         "line": {
          "color": "blue",
          "dash": "dashdot",
          "width": 2
         },
         "mode": "lines+markers",
         "name": "Gaussian Process - sklearn",
         "showlegend": false,
         "type": "scatter",
         "x": [
          10,
          12,
          15,
          19,
          23,
          25,
          31,
          36,
          39,
          50,
          56,
          63,
          86,
          133,
          205,
          316
         ],
         "xaxis": "x2",
         "y": [
          0.2570901196322462,
          0.24017402382920006,
          0.265572473412033,
          0.2584550099440567,
          0.2817875533146064,
          0.2593374414847442,
          0.2654145968542545,
          0.28033946205130233,
          0.268323555538467,
          0.2746623352942727,
          0.2761393075153887,
          0.28038377996520425,
          0.27403945538498153,
          0.28975675335190115,
          0.30971580786902636,
          0.31757043750555025
         ],
         "yaxis": "y2"
        },
        {
         "line": {
          "color": "green",
          "dash": "dash",
          "width": 2
         },
         "mode": "lines+markers",
         "name": "BOHAMIANN4000-4000",
         "showlegend": false,
         "type": "scatter",
         "x": [
          10,
          15,
          23,
          36,
          56,
          86,
          133,
          205,
          316
         ],
         "xaxis": "x2",
         "y": [
          0.06348931432545175,
          0.0792194591554094,
          0.03161928442623486,
          0.02786217303609775,
          0.021239373999554372,
          0.019594659323471184,
          0.020113160759742645,
          0.027441652820863152,
          0.034346397156576926
         ],
         "yaxis": "y2"
        }
       ],
       "layout": {
        "margin": {
         "b": 0,
         "l": 0,
         "r": 0,
         "t": 30
        },
        "template": {
         "data": {
          "bar": [
           {
            "error_x": {
             "color": "#2a3f5f"
            },
            "error_y": {
             "color": "#2a3f5f"
            },
            "marker": {
             "line": {
              "color": "#E5ECF6",
              "width": 0.5
             },
             "pattern": {
              "fillmode": "overlay",
              "size": 10,
              "solidity": 0.2
             }
            },
            "type": "bar"
           }
          ],
          "barpolar": [
           {
            "marker": {
             "line": {
              "color": "#E5ECF6",
              "width": 0.5
             },
             "pattern": {
              "fillmode": "overlay",
              "size": 10,
              "solidity": 0.2
             }
            },
            "type": "barpolar"
           }
          ],
          "carpet": [
           {
            "aaxis": {
             "endlinecolor": "#2a3f5f",
             "gridcolor": "white",
             "linecolor": "white",
             "minorgridcolor": "white",
             "startlinecolor": "#2a3f5f"
            },
            "baxis": {
             "endlinecolor": "#2a3f5f",
             "gridcolor": "white",
             "linecolor": "white",
             "minorgridcolor": "white",
             "startlinecolor": "#2a3f5f"
            },
            "type": "carpet"
           }
          ],
          "choropleth": [
           {
            "colorbar": {
             "outlinewidth": 0,
             "ticks": ""
            },
            "type": "choropleth"
           }
          ],
          "contour": [
           {
            "colorbar": {
             "outlinewidth": 0,
             "ticks": ""
            },
            "colorscale": [
             [
              0,
              "#0d0887"
             ],
             [
              0.1111111111111111,
              "#46039f"
             ],
             [
              0.2222222222222222,
              "#7201a8"
             ],
             [
              0.3333333333333333,
              "#9c179e"
             ],
             [
              0.4444444444444444,
              "#bd3786"
             ],
             [
              0.5555555555555556,
              "#d8576b"
             ],
             [
              0.6666666666666666,
              "#ed7953"
             ],
             [
              0.7777777777777778,
              "#fb9f3a"
             ],
             [
              0.8888888888888888,
              "#fdca26"
             ],
             [
              1,
              "#f0f921"
             ]
            ],
            "type": "contour"
           }
          ],
          "contourcarpet": [
           {
            "colorbar": {
             "outlinewidth": 0,
             "ticks": ""
            },
            "type": "contourcarpet"
           }
          ],
          "heatmap": [
           {
            "colorbar": {
             "outlinewidth": 0,
             "ticks": ""
            },
            "colorscale": [
             [
              0,
              "#0d0887"
             ],
             [
              0.1111111111111111,
              "#46039f"
             ],
             [
              0.2222222222222222,
              "#7201a8"
             ],
             [
              0.3333333333333333,
              "#9c179e"
             ],
             [
              0.4444444444444444,
              "#bd3786"
             ],
             [
              0.5555555555555556,
              "#d8576b"
             ],
             [
              0.6666666666666666,
              "#ed7953"
             ],
             [
              0.7777777777777778,
              "#fb9f3a"
             ],
             [
              0.8888888888888888,
              "#fdca26"
             ],
             [
              1,
              "#f0f921"
             ]
            ],
            "type": "heatmap"
           }
          ],
          "heatmapgl": [
           {
            "colorbar": {
             "outlinewidth": 0,
             "ticks": ""
            },
            "colorscale": [
             [
              0,
              "#0d0887"
             ],
             [
              0.1111111111111111,
              "#46039f"
             ],
             [
              0.2222222222222222,
              "#7201a8"
             ],
             [
              0.3333333333333333,
              "#9c179e"
             ],
             [
              0.4444444444444444,
              "#bd3786"
             ],
             [
              0.5555555555555556,
              "#d8576b"
             ],
             [
              0.6666666666666666,
              "#ed7953"
             ],
             [
              0.7777777777777778,
              "#fb9f3a"
             ],
             [
              0.8888888888888888,
              "#fdca26"
             ],
             [
              1,
              "#f0f921"
             ]
            ],
            "type": "heatmapgl"
           }
          ],
          "histogram": [
           {
            "marker": {
             "pattern": {
              "fillmode": "overlay",
              "size": 10,
              "solidity": 0.2
             }
            },
            "type": "histogram"
           }
          ],
          "histogram2d": [
           {
            "colorbar": {
             "outlinewidth": 0,
             "ticks": ""
            },
            "colorscale": [
             [
              0,
              "#0d0887"
             ],
             [
              0.1111111111111111,
              "#46039f"
             ],
             [
              0.2222222222222222,
              "#7201a8"
             ],
             [
              0.3333333333333333,
              "#9c179e"
             ],
             [
              0.4444444444444444,
              "#bd3786"
             ],
             [
              0.5555555555555556,
              "#d8576b"
             ],
             [
              0.6666666666666666,
              "#ed7953"
             ],
             [
              0.7777777777777778,
              "#fb9f3a"
             ],
             [
              0.8888888888888888,
              "#fdca26"
             ],
             [
              1,
              "#f0f921"
             ]
            ],
            "type": "histogram2d"
           }
          ],
          "histogram2dcontour": [
           {
            "colorbar": {
             "outlinewidth": 0,
             "ticks": ""
            },
            "colorscale": [
             [
              0,
              "#0d0887"
             ],
             [
              0.1111111111111111,
              "#46039f"
             ],
             [
              0.2222222222222222,
              "#7201a8"
             ],
             [
              0.3333333333333333,
              "#9c179e"
             ],
             [
              0.4444444444444444,
              "#bd3786"
             ],
             [
              0.5555555555555556,
              "#d8576b"
             ],
             [
              0.6666666666666666,
              "#ed7953"
             ],
             [
              0.7777777777777778,
              "#fb9f3a"
             ],
             [
              0.8888888888888888,
              "#fdca26"
             ],
             [
              1,
              "#f0f921"
             ]
            ],
            "type": "histogram2dcontour"
           }
          ],
          "mesh3d": [
           {
            "colorbar": {
             "outlinewidth": 0,
             "ticks": ""
            },
            "type": "mesh3d"
           }
          ],
          "parcoords": [
           {
            "line": {
             "colorbar": {
              "outlinewidth": 0,
              "ticks": ""
             }
            },
            "type": "parcoords"
           }
          ],
          "pie": [
           {
            "automargin": true,
            "type": "pie"
           }
          ],
          "scatter": [
           {
            "fillpattern": {
             "fillmode": "overlay",
             "size": 10,
             "solidity": 0.2
            },
            "type": "scatter"
           }
          ],
          "scatter3d": [
           {
            "line": {
             "colorbar": {
              "outlinewidth": 0,
              "ticks": ""
             }
            },
            "marker": {
             "colorbar": {
              "outlinewidth": 0,
              "ticks": ""
             }
            },
            "type": "scatter3d"
           }
          ],
          "scattercarpet": [
           {
            "marker": {
             "colorbar": {
              "outlinewidth": 0,
              "ticks": ""
             }
            },
            "type": "scattercarpet"
           }
          ],
          "scattergeo": [
           {
            "marker": {
             "colorbar": {
              "outlinewidth": 0,
              "ticks": ""
             }
            },
            "type": "scattergeo"
           }
          ],
          "scattergl": [
           {
            "marker": {
             "colorbar": {
              "outlinewidth": 0,
              "ticks": ""
             }
            },
            "type": "scattergl"
           }
          ],
          "scattermapbox": [
           {
            "marker": {
             "colorbar": {
              "outlinewidth": 0,
              "ticks": ""
             }
            },
            "type": "scattermapbox"
           }
          ],
          "scatterpolar": [
           {
            "marker": {
             "colorbar": {
              "outlinewidth": 0,
              "ticks": ""
             }
            },
            "type": "scatterpolar"
           }
          ],
          "scatterpolargl": [
           {
            "marker": {
             "colorbar": {
              "outlinewidth": 0,
              "ticks": ""
             }
            },
            "type": "scatterpolargl"
           }
          ],
          "scatterternary": [
           {
            "marker": {
             "colorbar": {
              "outlinewidth": 0,
              "ticks": ""
             }
            },
            "type": "scatterternary"
           }
          ],
          "surface": [
           {
            "colorbar": {
             "outlinewidth": 0,
             "ticks": ""
            },
            "colorscale": [
             [
              0,
              "#0d0887"
             ],
             [
              0.1111111111111111,
              "#46039f"
             ],
             [
              0.2222222222222222,
              "#7201a8"
             ],
             [
              0.3333333333333333,
              "#9c179e"
             ],
             [
              0.4444444444444444,
              "#bd3786"
             ],
             [
              0.5555555555555556,
              "#d8576b"
             ],
             [
              0.6666666666666666,
              "#ed7953"
             ],
             [
              0.7777777777777778,
              "#fb9f3a"
             ],
             [
              0.8888888888888888,
              "#fdca26"
             ],
             [
              1,
              "#f0f921"
             ]
            ],
            "type": "surface"
           }
          ],
          "table": [
           {
            "cells": {
             "fill": {
              "color": "#EBF0F8"
             },
             "line": {
              "color": "white"
             }
            },
            "header": {
             "fill": {
              "color": "#C8D4E3"
             },
             "line": {
              "color": "white"
             }
            },
            "type": "table"
           }
          ]
         },
         "layout": {
          "annotationdefaults": {
           "arrowcolor": "#2a3f5f",
           "arrowhead": 0,
           "arrowwidth": 1
          },
          "autotypenumbers": "strict",
          "coloraxis": {
           "colorbar": {
            "outlinewidth": 0,
            "ticks": ""
           }
          },
          "colorscale": {
           "diverging": [
            [
             0,
             "#8e0152"
            ],
            [
             0.1,
             "#c51b7d"
            ],
            [
             0.2,
             "#de77ae"
            ],
            [
             0.3,
             "#f1b6da"
            ],
            [
             0.4,
             "#fde0ef"
            ],
            [
             0.5,
             "#f7f7f7"
            ],
            [
             0.6,
             "#e6f5d0"
            ],
            [
             0.7,
             "#b8e186"
            ],
            [
             0.8,
             "#7fbc41"
            ],
            [
             0.9,
             "#4d9221"
            ],
            [
             1,
             "#276419"
            ]
           ],
           "sequential": [
            [
             0,
             "#0d0887"
            ],
            [
             0.1111111111111111,
             "#46039f"
            ],
            [
             0.2222222222222222,
             "#7201a8"
            ],
            [
             0.3333333333333333,
             "#9c179e"
            ],
            [
             0.4444444444444444,
             "#bd3786"
            ],
            [
             0.5555555555555556,
             "#d8576b"
            ],
            [
             0.6666666666666666,
             "#ed7953"
            ],
            [
             0.7777777777777778,
             "#fb9f3a"
            ],
            [
             0.8888888888888888,
             "#fdca26"
            ],
            [
             1,
             "#f0f921"
            ]
           ],
           "sequentialminus": [
            [
             0,
             "#0d0887"
            ],
            [
             0.1111111111111111,
             "#46039f"
            ],
            [
             0.2222222222222222,
             "#7201a8"
            ],
            [
             0.3333333333333333,
             "#9c179e"
            ],
            [
             0.4444444444444444,
             "#bd3786"
            ],
            [
             0.5555555555555556,
             "#d8576b"
            ],
            [
             0.6666666666666666,
             "#ed7953"
            ],
            [
             0.7777777777777778,
             "#fb9f3a"
            ],
            [
             0.8888888888888888,
             "#fdca26"
            ],
            [
             1,
             "#f0f921"
            ]
           ]
          },
          "colorway": [
           "#636efa",
           "#EF553B",
           "#00cc96",
           "#ab63fa",
           "#FFA15A",
           "#19d3f3",
           "#FF6692",
           "#B6E880",
           "#FF97FF",
           "#FECB52"
          ],
          "font": {
           "color": "#2a3f5f"
          },
          "geo": {
           "bgcolor": "white",
           "lakecolor": "white",
           "landcolor": "#E5ECF6",
           "showlakes": true,
           "showland": true,
           "subunitcolor": "white"
          },
          "hoverlabel": {
           "align": "left"
          },
          "hovermode": "closest",
          "mapbox": {
           "style": "light"
          },
          "paper_bgcolor": "white",
          "plot_bgcolor": "#E5ECF6",
          "polar": {
           "angularaxis": {
            "gridcolor": "white",
            "linecolor": "white",
            "ticks": ""
           },
           "bgcolor": "#E5ECF6",
           "radialaxis": {
            "gridcolor": "white",
            "linecolor": "white",
            "ticks": ""
           }
          },
          "scene": {
           "xaxis": {
            "backgroundcolor": "#E5ECF6",
            "gridcolor": "white",
            "gridwidth": 2,
            "linecolor": "white",
            "showbackground": true,
            "ticks": "",
            "zerolinecolor": "white"
           },
           "yaxis": {
            "backgroundcolor": "#E5ECF6",
            "gridcolor": "white",
            "gridwidth": 2,
            "linecolor": "white",
            "showbackground": true,
            "ticks": "",
            "zerolinecolor": "white"
           },
           "zaxis": {
            "backgroundcolor": "#E5ECF6",
            "gridcolor": "white",
            "gridwidth": 2,
            "linecolor": "white",
            "showbackground": true,
            "ticks": "",
            "zerolinecolor": "white"
           }
          },
          "shapedefaults": {
           "line": {
            "color": "#2a3f5f"
           }
          },
          "ternary": {
           "aaxis": {
            "gridcolor": "white",
            "linecolor": "white",
            "ticks": ""
           },
           "baxis": {
            "gridcolor": "white",
            "linecolor": "white",
            "ticks": ""
           },
           "bgcolor": "#E5ECF6",
           "caxis": {
            "gridcolor": "white",
            "linecolor": "white",
            "ticks": ""
           }
          },
          "title": {
           "x": 0.05
          },
          "xaxis": {
           "automargin": true,
           "gridcolor": "white",
           "linecolor": "white",
           "ticks": "",
           "title": {
            "standoff": 15
           },
           "zerolinecolor": "white",
           "zerolinewidth": 2
          },
          "yaxis": {
           "automargin": true,
           "gridcolor": "white",
           "linecolor": "white",
           "ticks": "",
           "title": {
            "standoff": 15
           },
           "zerolinecolor": "white",
           "zerolinewidth": 2
          }
         }
        },
        "title": {
         "text": "Step2 dim 10"
        },
        "xaxis": {
         "anchor": "y",
         "domain": [
          0,
          0.45
         ]
        },
        "xaxis2": {
         "anchor": "y2",
         "domain": [
          0.55,
          1
         ]
        },
        "yaxis": {
         "anchor": "x",
         "domain": [
          0,
          1
         ],
         "title": {
          "text": "mean_rel_pred_error"
         }
        },
        "yaxis2": {
         "anchor": "x2",
         "domain": [
          0,
          1
         ]
        }
       }
      }
     },
     "metadata": {},
     "output_type": "display_data"
    }
   ],
   "source": [
    "analysis_regression_performance_plotly(\"Step2_dim_10\",type = \"mean_rel_pred_error\",  means = True)"
   ]
  },
  {
   "cell_type": "markdown",
   "metadata": {},
   "source": [
    "# Old stuff"
   ]
  },
  {
   "cell_type": "code",
   "execution_count": 8,
   "metadata": {},
   "outputs": [],
   "source": [
    "def colorA(name):\n",
    "    if \"Mixture\" in name:\n",
    "        return \"yellow\"\n",
    "    if \"Gaussian\" in name:\n",
    "        return \"blue\"\n",
    "    if \"numpyro\" in name:\n",
    "        return \"red\"\n",
    "    if \"BOHAMIANN\" in name:\n",
    "        return \"green\"\n",
    "    return \"black\"\n",
    "\n",
    "def lsA(name):\n",
    "    if \"-\" in name:\n",
    "        return \"--\"\n",
    "    else:\n",
    "        return \"-\"\n",
    "\n",
    "def analysis_regression_performance(problem=  \"Rosenbrock_dim_10\", use_exact_name= False, print_file_paths=True):\n",
    "    data_list,name_list, problem_name, file_path_list = get_data2(problem, use_exact_name=use_exact_name)\n",
    "    fig, ax = plt.subplots(1,2, figsize=(12, 8))\n",
    "    for data, name in zip(data_list,name_list):\n",
    "        ax[0].plot(data[\"n_train_points_list\"], data[\"mean_abs_pred_error\"], color =colorA(name), ls=lsA(name), label=name)\n",
    "    #fig, ax = plt.subplots()\n",
    "    for data, name in zip(data_list,name_list):\n",
    "        ax[1].plot(data[\"n_train_points_list\"], data[\"mean_uncertainty_quantification\"],color =colorA(name), ls=lsA(name) , label=name)\n",
    "    #ax[1].legend()\n",
    "\n",
    "    ax[0].set_title(\"mean_abs_pred_error\")\n",
    "    ax[1].set_title(\"mean_uncertainty_quantification\")\n",
    "    print(problem_name)\n",
    "    if print_file_paths:\n",
    "        print(file_path_list)\n",
    "    handles, labels = plt.gca().get_legend_handles_labels()\n",
    "    by_label = dict(zip(labels, handles))\n",
    "    plt.legend(by_label.values(), by_label.keys())\n"
   ]
  },
  {
   "cell_type": "code",
   "execution_count": 9,
   "metadata": {},
   "outputs": [
    {
     "name": "stdout",
     "output_type": "stream",
     "text": [
      "numpyro neural network_Weierstrass_dim_1_seed_6504_time_2022-05-03-18_06.png could not be read\n",
      "target Wei\n",
      "More problems in same target.. Weierstrass dim 1 and Weierstrass dim 3\n"
     ]
    },
    {
     "ename": "TypeError",
     "evalue": "cannot unpack non-iterable int object",
     "output_type": "error",
     "traceback": [
      "\u001b[0;31m---------------------------------------------------------------------------\u001b[0m",
      "\u001b[0;31mTypeError\u001b[0m                                 Traceback (most recent call last)",
      "\u001b[1;32m/home/simon/Documents/MasterThesis/master-thesis/regression_validation_analysis.ipynb Cell 4'\u001b[0m in \u001b[0;36m<module>\u001b[0;34m\u001b[0m\n\u001b[0;32m----> <a href='vscode-notebook-cell:/home/simon/Documents/MasterThesis/master-thesis/regression_validation_analysis.ipynb#ch0000006?line=0'>1</a>\u001b[0m analysis_regression_performance(\u001b[39m\"\u001b[39;49m\u001b[39mWei\u001b[39;49m\u001b[39m\"\u001b[39;49m)\n",
      "\u001b[1;32m/home/simon/Documents/MasterThesis/master-thesis/regression_validation_analysis.ipynb Cell 3'\u001b[0m in \u001b[0;36manalysis_regression_performance\u001b[0;34m(problem, use_exact_name, print_file_paths)\u001b[0m\n\u001b[1;32m     <a href='vscode-notebook-cell:/home/simon/Documents/MasterThesis/master-thesis/regression_validation_analysis.ipynb#ch0000002?line=17'>18</a>\u001b[0m \u001b[39mdef\u001b[39;00m \u001b[39manalysis_regression_performance\u001b[39m(problem\u001b[39m=\u001b[39m  \u001b[39m\"\u001b[39m\u001b[39mRosenbrock_dim_10\u001b[39m\u001b[39m\"\u001b[39m, use_exact_name\u001b[39m=\u001b[39m \u001b[39mFalse\u001b[39;00m, print_file_paths\u001b[39m=\u001b[39m\u001b[39mTrue\u001b[39;00m):\n\u001b[0;32m---> <a href='vscode-notebook-cell:/home/simon/Documents/MasterThesis/master-thesis/regression_validation_analysis.ipynb#ch0000002?line=18'>19</a>\u001b[0m     data_list,name_list, problem_name, file_path_list \u001b[39m=\u001b[39m get_data2(problem, use_exact_name\u001b[39m=\u001b[39muse_exact_name)\n\u001b[1;32m     <a href='vscode-notebook-cell:/home/simon/Documents/MasterThesis/master-thesis/regression_validation_analysis.ipynb#ch0000002?line=19'>20</a>\u001b[0m     fig, ax \u001b[39m=\u001b[39m plt\u001b[39m.\u001b[39msubplots(\u001b[39m1\u001b[39m,\u001b[39m2\u001b[39m, figsize\u001b[39m=\u001b[39m(\u001b[39m12\u001b[39m, \u001b[39m8\u001b[39m))\n\u001b[1;32m     <a href='vscode-notebook-cell:/home/simon/Documents/MasterThesis/master-thesis/regression_validation_analysis.ipynb#ch0000002?line=20'>21</a>\u001b[0m     \u001b[39mfor\u001b[39;00m data, name \u001b[39min\u001b[39;00m \u001b[39mzip\u001b[39m(data_list,name_list):\n",
      "\u001b[0;31mTypeError\u001b[0m: cannot unpack non-iterable int object"
     ]
    }
   ],
   "source": [
    "analysis_regression_performance(\"Wei\")"
   ]
  },
  {
   "cell_type": "code",
   "execution_count": 83,
   "metadata": {},
   "outputs": [
    {
     "name": "stdout",
     "output_type": "stream",
     "text": [
      "Hartmann6 dim 6\n",
      "{'0418_0840'}\n"
     ]
    },
    {
     "data": {
      "image/png": "[encoded data removed]",
      "text/plain": [
       "<Figure size 864x576 with 2 Axes>"
      ]
     },
     "metadata": {
      "needs_background": "light"
     },
     "output_type": "display_data"
    }
   ],
   "source": [
    "analysis_regression_performance(\"Hartmann6\") #Whitley #Ackley01, #Cola, #Corana, #Hartmann6 #Hartmann3"
   ]
  },
  {
   "cell_type": "code",
   "execution_count": 95,
   "metadata": {},
   "outputs": [
    {
     "name": "stdout",
     "output_type": "stream",
     "text": [
      "Step2 dim 10\n",
      "{'0419_0927', '0419_1058', '0419_0950', '0419_0946', '0419_1042', '0419_0947', '0419_0918', '0419_1057'}\n"
     ]
    },
    {
     "data": {
      "image/png": "[encoded data removed]",
      "text/plain": [
       "<Figure size 864x576 with 2 Axes>"
      ]
     },
     "metadata": {
      "needs_background": "light"
     },
     "output_type": "display_data"
    }
   ],
   "source": [
    "#Whitley #Ackley01, #Cola, #Corana, #Hartmann6 #Hartmann3\n",
    "analysis_regression_performance(\"Step2_dim_10\", use_exact_name=True) \n",
    "plt.show()"
   ]
  },
  {
   "cell_type": "code",
   "execution_count": null,
   "metadata": {},
   "outputs": [],
   "source": []
  }
 ],
 "metadata": {
  "interpreter": {
   "hash": "47cad2680b95f298d0fa67e1a240518693be27668b8d01154513ec24e051e9d3"
  },
  "kernelspec": {
   "display_name": "Python 3.8.10 ('env': venv)",
   "language": "python",
   "name": "python3"
  },
  "language_info": {
   "codemirror_mode": {
    "name": "ipython",
    "version": 3
   },
   "file_extension": ".py",
   "mimetype": "text/x-python",
   "name": "python",
   "nbconvert_exporter": "python",
   "pygments_lexer": "ipython3",
   "version": "3.8.10"
  },
  "orig_nbformat": 4
 },
 "nbformat": 4,
 "nbformat_minor": 2
}
